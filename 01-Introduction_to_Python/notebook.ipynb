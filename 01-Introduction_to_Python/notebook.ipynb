{
 "cells": [
  {
   "cell_type": "markdown",
   "metadata": {},
   "source": [
    "# Introduction to Python"
   ]
  },
  {
   "cell_type": "markdown",
   "metadata": {},
   "source": [
    "## 1. Python Basics"
   ]
  },
  {
   "cell_type": "markdown",
   "metadata": {},
   "source": [
    "### Variable Assignment\n",
    "Instructions:\n",
    "<ul>\n",
    "<li>Create a variable savings with the value 100.</li>\n",
    "<li>Check out this variable by typing <code>print(savings)</code> in the script.</li>\n",
    "</ul>"
   ]
  },
  {
   "cell_type": "code",
   "execution_count": 1,
   "metadata": {},
   "outputs": [
    {
     "name": "stdout",
     "output_type": "stream",
     "text": [
      "100\n"
     ]
    }
   ],
   "source": [
    "# Create a variable savings\n",
    "savings = 100\n",
    "\n",
    "# Print out savings\n",
    "print(savings)"
   ]
  },
  {
   "cell_type": "markdown",
   "metadata": {},
   "source": [
    "### Calculations with variables\n",
    "Instructions:\n",
    "<ul>\n",
    "<li>Create a variable growth_multiplier, equal to 1.1.</li>\n",
    "<li>Create a variable, result, equal to the amount of money you saved after 7 years.</li>\n",
    "<li>Print out the value of result..</li>\n",
    "</ul>"
   ]
  },
  {
   "cell_type": "code",
   "execution_count": 2,
   "metadata": {},
   "outputs": [
    {
     "name": "stdout",
     "output_type": "stream",
     "text": [
      "194.87171000000012\n"
     ]
    }
   ],
   "source": [
    "# Create a variable savings\n",
    "savings = 100\n",
    "\n",
    "# Create a variable growth_multiplier\n",
    "growth_multiplier = 1.1\n",
    "\n",
    "# Calculate result\n",
    "result = savings * growth_multiplier ** 7\n",
    "\n",
    "# Print out result\n",
    "print(result)"
   ]
  },
  {
   "cell_type": "markdown",
   "metadata": {},
   "source": [
    "### Other variable types\n",
    "Instructions:\n",
    "<ul>\n",
    "<li>Create a new string, desc, with the value \"compound interest\".</li>\n",
    "<li>Create a new boolean, profitable, with the value True.</li>\n",
    "</ul>"
   ]
  },
  {
   "cell_type": "code",
   "execution_count": 3,
   "metadata": {},
   "outputs": [],
   "source": [
    "# Create a variable desc\n",
    "desc = \"compound interest\"\n",
    "\n",
    "# Create a variable profitable\n",
    "profitable = True"
   ]
  },
  {
   "cell_type": "markdown",
   "metadata": {},
   "source": [
    "### Operations with other types\n",
    "Instructions:\n",
    "<ul>\n",
    "<li>Calculate the product of savings and growth_multiplier. Store the result in year1.</li>\n",
    "<li>What do you think the resulting type will be? Find out by printing out the type of year1.</li>\n",
    "<li>Calculate the sum of desc and desc and store the result in a new variable doubledesc.</li>\n",
    "<li>Print out doubledesc. Did you expect this?</li>\n",
    "</ul>"
   ]
  },
  {
   "cell_type": "code",
   "execution_count": 4,
   "metadata": {},
   "outputs": [
    {
     "name": "stdout",
     "output_type": "stream",
     "text": [
      "<class 'float'>\n",
      "compound interestcompound interest\n"
     ]
    }
   ],
   "source": [
    "savings = 100\n",
    "growth_multiplier = 1.1\n",
    "desc = \"compound interest\"\n",
    "\n",
    "# Assign product of savings and growth_multiplier to year1\n",
    "year1 = savings * growth_multiplier\n",
    "\n",
    "# Print the type of year1\n",
    "print(type(year1))\n",
    "\n",
    "# Assign sum of desc and desc to doubledesc\n",
    "doubledesc = desc + desc\n",
    "\n",
    "# Print out doubledesc\n",
    "print(doubledesc)"
   ]
  },
  {
   "cell_type": "markdown",
   "metadata": {},
   "source": [
    "### Type conversion\n",
    "Instructions:\n",
    "<ul>\n",
    "<li>Hit Run Code to run the code. Try to understand the error message.</li>\n",
    "<li>Fix the code such that the printout runs without errors; use the function str() to convert the variables to strings.</li>\n",
    "<li>Convert the variable pi_string to a float and store this float as a new variable, pi_float.</li>\n",
    "</ul>"
   ]
  },
  {
   "cell_type": "code",
   "execution_count": 5,
   "metadata": {},
   "outputs": [
    {
     "name": "stdout",
     "output_type": "stream",
     "text": [
      "I started with $100 and now have $194.87171000000012. Awesome!\n"
     ]
    }
   ],
   "source": [
    "# Definition of savings and result\n",
    "savings = 100\n",
    "result = 100 * 1.10 ** 7\n",
    "\n",
    "# Fix the printout\n",
    "print(\"I started with $\" + str(savings) + \" and now have $\" + str(result) + \". Awesome!\")\n",
    "\n",
    "# Definition of pi_string\n",
    "pi_string = \"3.1415926\"\n",
    "\n",
    "# Convert pi_string into float: pi_float\n",
    "pi_float = float(pi_string)"
   ]
  },
  {
   "cell_type": "markdown",
   "metadata": {},
   "source": [
    "## 2. Python Lists"
   ]
  },
  {
   "cell_type": "markdown",
   "metadata": {},
   "source": [
    "### Create a list\n",
    "Instructions:\n",
    "<ul>\n",
    "<li>Create a list, areas, that contains the area of the hallway (<i>hall</i>), kitchen (<i>kit</i>), living room (<i>liv</i>), bedroom (<i>bed</i>) and bathroom (<i>bath</i>), in this order. Use the predefined variables.</li>\n",
    "<li>Print <i>areas</i> with the <code>print()</code> function.</li>\n",
    "</ul>"
   ]
  },
  {
   "cell_type": "code",
   "execution_count": 6,
   "metadata": {},
   "outputs": [
    {
     "name": "stdout",
     "output_type": "stream",
     "text": [
      "[11.25, 18.0, 20.0, 10.75, 9.5]\n"
     ]
    }
   ],
   "source": [
    "# area variables (in square meters)\n",
    "hall = 11.25\n",
    "kit = 18.0\n",
    "liv = 20.0\n",
    "bed = 10.75\n",
    "bath = 9.50\n",
    "\n",
    "# Create list areas\n",
    "areas = [hall, kit, liv, bed, bath]\n",
    "\n",
    "# Print areas\n",
    "print(areas)"
   ]
  },
  {
   "cell_type": "markdown",
   "metadata": {},
   "source": [
    "### Create list with different types\n",
    "Instructions:\n",
    "<ul>\n",
    "<li>Finish the code that creates the <i>areas</i> list. Build the list so that the list first contains the name of each room as a string and then its area. In other words, add the strings <i>\"hallway\"</i>, <i>\"kitchen\"</i> and <i>\"bedroom\"</i> at the appropriate locations.</li>\n",
    "<li>Print <i>areas</i> again; is the printout more informative this time?</li>\n",
    "</ul>"
   ]
  },
  {
   "cell_type": "code",
   "execution_count": 7,
   "metadata": {},
   "outputs": [
    {
     "name": "stdout",
     "output_type": "stream",
     "text": [
      "['hallway', 11.25, 'kitchen', 18.0, 'living room', 20.0, 'bedroom', 10.75, 'bathroom', 9.5]\n"
     ]
    }
   ],
   "source": [
    "# area variables (in square meters)\n",
    "hall = 11.25\n",
    "kit = 18.0\n",
    "liv = 20.0\n",
    "bed = 10.75\n",
    "bath = 9.50\n",
    "\n",
    "# Adapt list areas\n",
    "areas = [\"hallway\", hall, \"kitchen\", kit, \"living room\", liv, \"bedroom\", bed, \"bathroom\", bath]\n",
    "\n",
    "# Print areas\n",
    "print(areas)"
   ]
  },
  {
   "cell_type": "markdown",
   "metadata": {},
   "source": [
    "### List of lists\n",
    "Instructions:\n",
    "<ul>\n",
    "<li>Finish the list of lists so that it also contains the bedroom and bathroom data. Make sure you enter these in order!</li>\n",
    "<li>Print out <i>house</i>; does this way of structuring your data make more sense?</li>\n",
    "<li>Print out the type of <i>house</i>. Are you still dealing with a list?</li>\n",
    "</ul>"
   ]
  },
  {
   "cell_type": "code",
   "execution_count": 8,
   "metadata": {},
   "outputs": [
    {
     "name": "stdout",
     "output_type": "stream",
     "text": [
      "[['hallway', 11.25], ['kitchen', 18.0], ['living room', 20.0], ['bedroom', 10.75], ['bathroom', 9.5]]\n",
      "<class 'list'>\n"
     ]
    }
   ],
   "source": [
    "# area variables (in square meters)\n",
    "hall = 11.25\n",
    "kit = 18.0\n",
    "liv = 20.0\n",
    "bed = 10.75\n",
    "bath = 9.50\n",
    "\n",
    "# house information as list of lists\n",
    "house = [[\"hallway\", hall],\n",
    "         [\"kitchen\", kit],\n",
    "         [\"living room\", liv],\n",
    "         [\"bedroom\", bed],\n",
    "         [\"bathroom\", bath]]\n",
    "\n",
    "# Print out house\n",
    "print(house)\n",
    "\n",
    "# Print out the type of house\n",
    "print(type(house))"
   ]
  },
  {
   "cell_type": "markdown",
   "metadata": {},
   "source": [
    "### Subset and calculate\n",
    "Instructions:\n",
    "<ul>\n",
    "<li>Using a combination of list subsetting and variable assignment, create a new variable, <i>eat_sleep_area</i>, that contains the sum of the area of the kitchen and the area of the bedroom.</li>\n",
    "<li>Print the new variable <i>eat_sleep_area</i>.</li>\n",
    "</ul>"
   ]
  },
  {
   "cell_type": "code",
   "execution_count": 9,
   "metadata": {},
   "outputs": [
    {
     "name": "stdout",
     "output_type": "stream",
     "text": [
      "28.75\n"
     ]
    }
   ],
   "source": [
    "# Create the areas list\n",
    "areas = [\"hallway\", 11.25, \"kitchen\", 18.0, \"living room\", 20.0, \"bedroom\", 10.75, \"bathroom\", 9.50]\n",
    "\n",
    "# Sum of kitchen and bedroom area: eat_sleep_area\n",
    "eat_sleep_area = areas[3] + areas[-3]\n",
    "\n",
    "# Print the variable eat_sleep_area\n",
    "print(eat_sleep_area)\n"
   ]
  },
  {
   "cell_type": "markdown",
   "metadata": {},
   "source": [
    "### Slicing and dicing\n",
    "Instructions:\n",
    "<ul>\n",
    "<li>Use slicing to create a list, <i>downstairs</i>, that contains the first 6 elements of <i>areas</i>.</li>\n",
    "<li>Do a similar thing to create a new variable, <i>upstairs</i>, that contains the last 4 elements of <i>areas</i>.</li>\n",
    "<li>Print both <i>downstairs</i> and <i>upstairs</i> using print().</li>\n",
    "</ul>"
   ]
  },
  {
   "cell_type": "code",
   "execution_count": 10,
   "metadata": {},
   "outputs": [
    {
     "name": "stdout",
     "output_type": "stream",
     "text": [
      "['hallway', 11.25, 'kitchen', 18.0, 'living room', 20.0] ['bedroom', 10.75, 'bathroom', 9.5]\n"
     ]
    }
   ],
   "source": [
    "# Create the areas list\n",
    "areas = [\"hallway\", 11.25, \"kitchen\", 18.0, \"living room\", 20.0, \"bedroom\", 10.75, \"bathroom\", 9.50]\n",
    "\n",
    "# Use slicing to create downstairs\n",
    "downstairs = areas[:6]\n",
    "\n",
    "# Use slicing to create upstairs\n",
    "upstairs = areas[-4:]\n",
    "\n",
    "# Print out downstairs and upstairs\n",
    "print(downstairs, upstairs)"
   ]
  },
  {
   "cell_type": "markdown",
   "metadata": {},
   "source": [
    "### Slicing and dicing (2)\n",
    "Instructions:\n",
    "<ul>\n",
    "<li>Create <i>downstairs</i> again, as the first 6 elements of <i>areas</i>. This time, simplify the slicing by omitting the <i>begin</i> index.</li>\n",
    "<li>Create <i>upstairs</i> again, as the last <i>4</i> elements of <i>areas</i>. This time, simplify the slicing by omitting the <i>end</i> index.</li>\n",
    "</ul>"
   ]
  },
  {
   "cell_type": "code",
   "execution_count": 11,
   "metadata": {},
   "outputs": [],
   "source": [
    "# Create the areas list\n",
    "areas = [\"hallway\", 11.25, \"kitchen\", 18.0, \"living room\", 20.0, \"bedroom\", 10.75, \"bathroom\", 9.50]\n",
    "\n",
    "# Alternative slicing to create downstairs\n",
    "downstairs = areas[:6]\n",
    "\n",
    "# Alternative slicing to create upstairs\n",
    "upstairs = areas[-4:]"
   ]
  },
  {
   "cell_type": "markdown",
   "metadata": {},
   "source": [
    "### Replace list elements\n",
    "Instructions:\n",
    "<ul>\n",
    "<li>Update the area of the bathroom area to be 10.50 square meters instead of 9.50.</li>\n",
    "<li>Make the <i>areas</i> list more trendy! Change <i>\"living room\"</i> to <i>\"chill zone\"</i>.</li>\n",
    "</ul>"
   ]
  },
  {
   "cell_type": "code",
   "execution_count": 12,
   "metadata": {},
   "outputs": [],
   "source": [
    "# Create the areas list\n",
    "areas = [\"hallway\", 11.25, \"kitchen\", 18.0, \"living room\", 20.0, \"bedroom\", 10.75, \"bathroom\", 9.50]\n",
    "\n",
    "# Correct the bathroom area\n",
    "areas[-1] = 10.50\n",
    "\n",
    "# Change \"living room\" to \"chill zone\"\n",
    "areas[4] = \"chill zone\""
   ]
  },
  {
   "cell_type": "markdown",
   "metadata": {},
   "source": [
    "### Extend a list\n",
    "Instructions:\n",
    "<ul>\n",
    "<li>Use the + operator to paste the list <i>[\"poolhouse\", 24.5]</i> to the end of the <i>areas<li> list. Store the resulting list as <i>areas_1</i>.</li>\n",
    "<li>Further extend <i>areas_1</i> by adding data on your garage. Add the string <i>\"garage\"</i> and float <i>15.45</i>. Name the resulting list <i>areas_2</i>.</li>\n",
    "</ul>"
   ]
  },
  {
   "cell_type": "code",
   "execution_count": 13,
   "metadata": {},
   "outputs": [],
   "source": [
    "# Create the areas list and make some changes\n",
    "areas = [\"hallway\", 11.25, \"kitchen\", 18.0, \"chill zone\", 20.0,\n",
    "         \"bedroom\", 10.75, \"bathroom\", 10.50]\n",
    "\n",
    "# Add poolhouse data to areas, new list is areas_1\n",
    "areas_1 = areas + [\"poolhouse\", 24.5]\n",
    "\n",
    "# Add garage data to areas_1, new list is areas_2\n",
    "areas_2 = areas_1 + [\"garage\", 15.45]"
   ]
  },
  {
   "cell_type": "markdown",
   "metadata": {},
   "source": [
    "### Inner workings of lists\n",
    "Instructions:\n",
    "<ul>\n",
    "<li>Change the second command, that creates the variable areas_copy, such that areas_copy is an explicit copy of areas. After your edit, changes made to areas_copy shouldn't affect areas. Submit the answer to check this.</li>\n",
    "</ul>"
   ]
  },
  {
   "cell_type": "code",
   "execution_count": 14,
   "metadata": {},
   "outputs": [
    {
     "name": "stdout",
     "output_type": "stream",
     "text": [
      "[11.25, 18.0, 20.0, 10.75, 9.5]\n"
     ]
    }
   ],
   "source": [
    "# Create list areas\n",
    "areas = [11.25, 18.0, 20.0, 10.75, 9.50]\n",
    "\n",
    "# Create areas_copy\n",
    "areas_copy = list(areas)\n",
    "\n",
    "# Change areas_copy\n",
    "areas_copy[0] = 5.0\n",
    "\n",
    "# Print areas\n",
    "print(areas)"
   ]
  },
  {
   "cell_type": "markdown",
   "metadata": {},
   "source": [
    "### Subset and conquer\n",
    "Instructions:\n",
    "<ul>\n",
    "<li>Print out the second element from the <i>areas</i> list (it has the value <i>11.25</i>).</li>\n",
    "<li>Subset and print out the last element of <i>areas</i>, being <i>9.50</i>. Using a negative index makes sense here!</li>\n",
    "<li>Select the number representing the area of the living room (<i>20.0</i>) and print it out.</li>\n",
    "</ul>"
   ]
  },
  {
   "cell_type": "code",
   "execution_count": 15,
   "metadata": {},
   "outputs": [
    {
     "name": "stdout",
     "output_type": "stream",
     "text": [
      "11.25\n",
      "9.5\n",
      "20.0\n"
     ]
    }
   ],
   "source": [
    "# Create the areas list\n",
    "areas = [\"hallway\", 11.25, \"kitchen\", 18.0, \"living room\", 20.0, \"bedroom\", 10.75, \"bathroom\", 9.50]\n",
    "\n",
    "# Print out second element from areas\n",
    "print(areas[1])\n",
    "\n",
    "# Print out last element from areas\n",
    "print(areas[-1])\n",
    "\n",
    "# Print out the area of the living room\n",
    "print(areas[5])"
   ]
  },
  {
   "cell_type": "markdown",
   "metadata": {},
   "source": [
    "## 3. Functions and Packages"
   ]
  },
  {
   "cell_type": "markdown",
   "metadata": {},
   "source": [
    "### Familiar functions\n",
    "Instructions:\n",
    "<ul>\n",
    "<li>Use print() in combination with type() to print out the type of var1.</li>\n",
    "<li>Use len() to get the length of the list var1. Wrap it in a print() call to directly print it out.</li>\n",
    "<li>Use int() to convert var2 to an integer. Store the output as out2.</li>\n",
    "</ul>"
   ]
  },
  {
   "cell_type": "code",
   "execution_count": 16,
   "metadata": {},
   "outputs": [
    {
     "name": "stdout",
     "output_type": "stream",
     "text": [
      "<class 'list'>\n",
      "4\n"
     ]
    }
   ],
   "source": [
    "# Create variables var1 and var2\n",
    "var1 = [1, 2, 3, 4]\n",
    "var2 = True\n",
    "\n",
    "# Print out type of var1\n",
    "print(type(var1))\n",
    "\n",
    "# Print out length of var1\n",
    "print(len(var1))\n",
    "\n",
    "# Convert var2 to an integer: out2\n",
    "out2 = int(var2)"
   ]
  },
  {
   "cell_type": "markdown",
   "metadata": {},
   "source": [
    "### Multiple arguments\n",
    "Instructions:\n",
    "<ul>\n",
    "<li>Use + to merge the contents of first and second into a new list: full.</li>\n",
    "<li>Call sorted() on full and specify the reverse argument to be True. Save the sorted list as full_sorted.</li>\n",
    "<li>Finish off by printing out full_sorted.</li>\n",
    "</ul>"
   ]
  },
  {
   "cell_type": "code",
   "execution_count": 17,
   "metadata": {},
   "outputs": [
    {
     "name": "stdout",
     "output_type": "stream",
     "text": [
      "[20.0, 18.0, 11.25, 10.75, 9.5]\n"
     ]
    }
   ],
   "source": [
    "# Create lists first and second\n",
    "first = [11.25, 18.0, 20.0]\n",
    "second = [10.75, 9.50]\n",
    "\n",
    "# Paste together first and second: full\n",
    "full = first + second\n",
    "\n",
    "# Sort full in descending order: full_sorted\n",
    "full_sorted = sorted(full, reverse=True)\n",
    "\n",
    "# Print out full_sorted\n",
    "print(full_sorted)"
   ]
  },
  {
   "cell_type": "markdown",
   "metadata": {},
   "source": [
    "### String Methods\n",
    "Instructions:\n",
    "<ul>\n",
    "<li>Use the upper() method on place and store the result in place_up. Use the syntax for calling methods that you learned in the previous video.</li>\n",
    "<li>Print out place and place_up. Did both change?</li>\n",
    "<li>Print out the number of o's on the variable place by calling count() on place and passing the letter 'o' as an input to the method. We're talking about the variable place, not the word \"place\"!</li>\n",
    "</ul>"
   ]
  },
  {
   "cell_type": "code",
   "execution_count": 18,
   "metadata": {},
   "outputs": [
    {
     "name": "stdout",
     "output_type": "stream",
     "text": [
      "poolhouse POOLHOUSE\n",
      "3\n"
     ]
    }
   ],
   "source": [
    "# string to experiment with: place\n",
    "place = \"poolhouse\"\n",
    "\n",
    "# Use upper() on place: place_up\n",
    "place_up = place.upper()\n",
    "\n",
    "# Print out place and place_up\n",
    "print(place, place_up)\n",
    "\n",
    "# Print out the number of o's in place\n",
    "print(place.count('o'))"
   ]
  },
  {
   "cell_type": "markdown",
   "metadata": {},
   "source": [
    "### List Methods\n",
    "Instructions:\n",
    "<ul>\n",
    "<li>Use the index() method to get the index of the element in areas that is equal to 20.0. Print out this index.</li>\n",
    "<li>Call count() on areas to find out how many times 9.50 appears in the list. Again, simply print out this number.</li>\n",
    "</ul>"
   ]
  },
  {
   "cell_type": "code",
   "execution_count": 19,
   "metadata": {},
   "outputs": [
    {
     "name": "stdout",
     "output_type": "stream",
     "text": [
      "2\n",
      "1\n"
     ]
    }
   ],
   "source": [
    "# Create list areas\n",
    "areas = [11.25, 18.0, 20.0, 10.75, 9.50]\n",
    "\n",
    "# Print out the index of the element 20.0\n",
    "print(areas.index(20.0))\n",
    "\n",
    "# Print out how often 9.50 appears in areas\n",
    "print(areas.count(9.50))\n"
   ]
  },
  {
   "cell_type": "markdown",
   "metadata": {},
   "source": [
    "### List Methods (2)\n",
    "Instructions:\n",
    "<ul>\n",
    "<li>Use append() twice to add the size of the poolhouse and the garage again: 24.5 and 15.45, respectively. Make sure to add them in this order.</li>\n",
    "<li>Print out areas</li>\n",
    "<li>Use the reverse() method to reverse the order of the elements in areas.</li>\n",
    "<li>Print out areas once more.</li>\n",
    "</ul>"
   ]
  },
  {
   "cell_type": "code",
   "execution_count": 20,
   "metadata": {},
   "outputs": [
    {
     "name": "stdout",
     "output_type": "stream",
     "text": [
      "[11.25, 18.0, 20.0, 10.75, 9.5, 24.5, 15.45]\n",
      "[15.45, 24.5, 9.5, 10.75, 20.0, 18.0, 11.25]\n"
     ]
    }
   ],
   "source": [
    "# Create list areas\n",
    "areas = [11.25, 18.0, 20.0, 10.75, 9.50]\n",
    "\n",
    "# Use append twice to add poolhouse and garage size\n",
    "areas.append(24.5)\n",
    "areas.append(15.45)\n",
    "\n",
    "# Print out areas\n",
    "print(areas)\n",
    "\n",
    "# Reverse the orders of the elements in areas\n",
    "areas.reverse()\n",
    "\n",
    "# Print out areas\n",
    "print(areas)"
   ]
  },
  {
   "cell_type": "markdown",
   "metadata": {},
   "source": [
    "### Import package\n",
    "Instructions:\n",
    "<ul>\n",
    "<li>Import the math package. Now you can access the constant pi with math.pi.</li>\n",
    "<li>Calculate the circumference of the circle and store it in C.</li>\n",
    "<li>Calculate the area of the circle and store it in A</li>\n",
    "</ul>"
   ]
  },
  {
   "cell_type": "code",
   "execution_count": 21,
   "metadata": {},
   "outputs": [
    {
     "name": "stdout",
     "output_type": "stream",
     "text": [
      "Circumference: 2.701769682087222\n",
      "Area: 0.5808804816487527\n"
     ]
    }
   ],
   "source": [
    "# Definition of radius\n",
    "r = 0.43\n",
    "\n",
    "# Import the math package\n",
    "import math as mt\n",
    "\n",
    "# Calculate C\n",
    "C = 2*mt.pi*r\n",
    "\n",
    "# Calculate A\n",
    "A = mt.pi*r**2\n",
    "\n",
    "# Build printout\n",
    "print(\"Circumference: \" + str(C))\n",
    "print(\"Area: \" + str(A))"
   ]
  },
  {
   "cell_type": "markdown",
   "metadata": {},
   "source": [
    "### Selective import\n",
    "Instructions:\n",
    "<ul>\n",
    "<li>Perform a selective import from the math package where you only import the radians function.</li>\n",
    "<li>Calculate the distance travelled by the Moon over 12 degrees of its orbit. Assign the result to dist. You can calculate this as r * phi, where r is the radius and phi is the angle in radians. To convert an angle in degrees to an angle in radians, use the radians() function, which you just imported.</li>\n",
    "<li>Print out dist.</li>\n",
    "</ul>"
   ]
  },
  {
   "cell_type": "code",
   "execution_count": 22,
   "metadata": {},
   "outputs": [
    {
     "name": "stdout",
     "output_type": "stream",
     "text": [
      "40317.10572106901\n"
     ]
    }
   ],
   "source": [
    "# Definition of radius\n",
    "r = 192500\n",
    "\n",
    "# Import radians function of math package\n",
    "from math import radians\n",
    "\n",
    "# Travel distance of Moon over 12 degrees. Store in dist.\n",
    "dist = r * radians(12)\n",
    "\n",
    "# Print out dist\n",
    "print(dist)"
   ]
  },
  {
   "cell_type": "markdown",
   "metadata": {},
   "source": [
    "## 4. NumPy"
   ]
  },
  {
   "cell_type": "markdown",
   "metadata": {},
   "source": [
    "### Your First NumPy Array\n",
    "Instructions:\n",
    "<ul>\n",
    "<li>Import the numpy package as np, so that you can refer to numpy with np.</li>\n",
    "<li>Use np.array() to create a numpy array from baseball. Name this array np_baseball.</li>\n",
    "<li>Print out the type of np_baseball to check that you got it right.</li>\n",
    "</ul>"
   ]
  },
  {
   "cell_type": "code",
   "execution_count": 1,
   "metadata": {},
   "outputs": [
    {
     "name": "stdout",
     "output_type": "stream",
     "text": [
      "<class 'numpy.ndarray'>\n"
     ]
    }
   ],
   "source": [
    "# Create list baseball\n",
    "baseball = [180, 215, 210, 210, 188, 176, 209, 200]\n",
    "\n",
    "# Import the numpy package as np\n",
    "import numpy as np\n",
    "\n",
    "# Create a numpy array from baseball: np_baseball\n",
    "np_baseball = np.array(baseball)\n",
    "\n",
    "# Print out type of np_baseball\n",
    "print(type(np_baseball))"
   ]
  },
  {
   "cell_type": "markdown",
   "metadata": {},
   "source": [
    "### Baseball players' height\n",
    "Instructions:\n",
    "<ul>\n",
    "<li>Create a numpy array from height_in. Name this new array np_height_in.</li>\n",
    "<li>Print np_height_in.</li>\n",
    "<li>Multiply np_height_in with 0.0254 to convert all height measurements from inches to meters. Store the new values in a new array, np_height_m.</li>\n",
    "<li>Print out np_height_m and check if the output makes sense.</li>\n",
    "</ul>"
   ]
  },
  {
   "cell_type": "code",
   "execution_count": 24,
   "metadata": {},
   "outputs": [
    {
     "ename": "NameError",
     "evalue": "name 'height_in' is not defined",
     "output_type": "error",
     "traceback": [
      "\u001b[1;31m---------------------------------------------------------------------------\u001b[0m",
      "\u001b[1;31mNameError\u001b[0m                                 Traceback (most recent call last)",
      "\u001b[1;32mc:\\Users\\pedro\\Área de Trabalho\\Faculdade\\Programação\\Python\\Datacamp Data Science\\1-Introduction_to_Python\\notebook.ipynb Cell 53'\u001b[0m in \u001b[0;36m<cell line: 7>\u001b[1;34m()\u001b[0m\n\u001b[0;32m      <a href='vscode-notebook-cell:/c%3A/Users/pedro/%C3%81rea%20de%20Trabalho/Faculdade/Programa%C3%A7%C3%A3o/Python/Datacamp%20Data%20Science/1-Introduction_to_Python/notebook.ipynb#ch0000069?line=3'>4</a>\u001b[0m \u001b[39mimport\u001b[39;00m \u001b[39mnumpy\u001b[39;00m \u001b[39mas\u001b[39;00m \u001b[39mnp\u001b[39;00m\n\u001b[0;32m      <a href='vscode-notebook-cell:/c%3A/Users/pedro/%C3%81rea%20de%20Trabalho/Faculdade/Programa%C3%A7%C3%A3o/Python/Datacamp%20Data%20Science/1-Introduction_to_Python/notebook.ipynb#ch0000069?line=5'>6</a>\u001b[0m \u001b[39m# Create a numpy array from height_in: np_height_in\u001b[39;00m\n\u001b[1;32m----> <a href='vscode-notebook-cell:/c%3A/Users/pedro/%C3%81rea%20de%20Trabalho/Faculdade/Programa%C3%A7%C3%A3o/Python/Datacamp%20Data%20Science/1-Introduction_to_Python/notebook.ipynb#ch0000069?line=6'>7</a>\u001b[0m np_height_in \u001b[39m=\u001b[39m np\u001b[39m.\u001b[39marray(height_in)\n\u001b[0;32m      <a href='vscode-notebook-cell:/c%3A/Users/pedro/%C3%81rea%20de%20Trabalho/Faculdade/Programa%C3%A7%C3%A3o/Python/Datacamp%20Data%20Science/1-Introduction_to_Python/notebook.ipynb#ch0000069?line=8'>9</a>\u001b[0m \u001b[39m# Print out np_height_in\u001b[39;00m\n\u001b[0;32m     <a href='vscode-notebook-cell:/c%3A/Users/pedro/%C3%81rea%20de%20Trabalho/Faculdade/Programa%C3%A7%C3%A3o/Python/Datacamp%20Data%20Science/1-Introduction_to_Python/notebook.ipynb#ch0000069?line=9'>10</a>\u001b[0m \u001b[39mprint\u001b[39m(np_height_in)\n",
      "\u001b[1;31mNameError\u001b[0m: name 'height_in' is not defined"
     ]
    }
   ],
   "source": [
    "# height_in is available as a regular list\n",
    "\n",
    "# Import numpy\n",
    "import numpy as np\n",
    "\n",
    "# Create a numpy array from height_in: np_height_in\n",
    "np_height_in = np.array(height_in)\n",
    "\n",
    "# Print out np_height_in\n",
    "print(np_height_in)\n",
    "\n",
    "# Convert np_height_in to m: np_height_m\n",
    "np_height_m = np_height_in * 0.0254\n",
    "\n",
    "# Print np_height_m\n",
    "print(np_height_m)"
   ]
  },
  {
   "cell_type": "markdown",
   "metadata": {},
   "source": [
    "### Baseball player's BMI\n",
    "Instructions:\n",
    "<ul>\n",
    "<li>Create a numpy array from the weight_lb list with the correct units. Multiply by 0.453592 to go from pounds to kilograms. Store the resulting numpy array as np_weight_kg.</li>\n",
    "<li>Use np_height_m and np_weight_kg to calculate the BMI of each player. Use the following equation: BMI = weight(kg) / height(m²)</li>\n",
    "<li>Save the resulting numpy array as bmi.</li>\n",
    "<li>Print out bmi.</li>\n",
    "</ul>"
   ]
  },
  {
   "cell_type": "code",
   "execution_count": 3,
   "metadata": {},
   "outputs": [
    {
     "ename": "NameError",
     "evalue": "name 'height_in' is not defined",
     "output_type": "error",
     "traceback": [
      "\u001b[1;31m---------------------------------------------------------------------------\u001b[0m",
      "\u001b[1;31mNameError\u001b[0m                                 Traceback (most recent call last)",
      "\u001b[1;32mc:\\Users\\pedro\\Área de Trabalho\\Faculdade\\Programação\\Python\\Datacamp Data Science\\1-Introduction_to_Python\\notebook.ipynb Cell 8'\u001b[0m in \u001b[0;36m<cell line: 7>\u001b[1;34m()\u001b[0m\n\u001b[0;32m      <a href='vscode-notebook-cell:/c%3A/Users/pedro/%C3%81rea%20de%20Trabalho/Faculdade/Programa%C3%A7%C3%A3o/Python/Datacamp%20Data%20Science/1-Introduction_to_Python/notebook.ipynb#ch0000007?line=3'>4</a>\u001b[0m \u001b[39mimport\u001b[39;00m \u001b[39mnumpy\u001b[39;00m \u001b[39mas\u001b[39;00m \u001b[39mnp\u001b[39;00m\n\u001b[0;32m      <a href='vscode-notebook-cell:/c%3A/Users/pedro/%C3%81rea%20de%20Trabalho/Faculdade/Programa%C3%A7%C3%A3o/Python/Datacamp%20Data%20Science/1-Introduction_to_Python/notebook.ipynb#ch0000007?line=5'>6</a>\u001b[0m \u001b[39m# Create array from height_in with metric units: np_height_m\u001b[39;00m\n\u001b[1;32m----> <a href='vscode-notebook-cell:/c%3A/Users/pedro/%C3%81rea%20de%20Trabalho/Faculdade/Programa%C3%A7%C3%A3o/Python/Datacamp%20Data%20Science/1-Introduction_to_Python/notebook.ipynb#ch0000007?line=6'>7</a>\u001b[0m np_height_m \u001b[39m=\u001b[39m np\u001b[39m.\u001b[39marray(height_in) \u001b[39m*\u001b[39m \u001b[39m0.0254\u001b[39m\n\u001b[0;32m      <a href='vscode-notebook-cell:/c%3A/Users/pedro/%C3%81rea%20de%20Trabalho/Faculdade/Programa%C3%A7%C3%A3o/Python/Datacamp%20Data%20Science/1-Introduction_to_Python/notebook.ipynb#ch0000007?line=8'>9</a>\u001b[0m \u001b[39m# Create array from weight_lb with metric units: np_weight_kg\u001b[39;00m\n\u001b[0;32m     <a href='vscode-notebook-cell:/c%3A/Users/pedro/%C3%81rea%20de%20Trabalho/Faculdade/Programa%C3%A7%C3%A3o/Python/Datacamp%20Data%20Science/1-Introduction_to_Python/notebook.ipynb#ch0000007?line=9'>10</a>\u001b[0m np_weight_kg \u001b[39m=\u001b[39m np\u001b[39m.\u001b[39marray(weight_lb) \u001b[39m*\u001b[39m \u001b[39m0.453592\u001b[39m\n",
      "\u001b[1;31mNameError\u001b[0m: name 'height_in' is not defined"
     ]
    }
   ],
   "source": [
    "# height_in and weight_lb are available as regular lists\n",
    "\n",
    "# Import numpy\n",
    "import numpy as np\n",
    "\n",
    "# Create array from height_in with metric units: np_height_m\n",
    "np_height_m = np.array(height_in) * 0.0254\n",
    "\n",
    "# Create array from weight_lb with metric units: np_weight_kg\n",
    "np_weight_kg = np.array(weight_lb) * 0.453592\n",
    "\n",
    "# Calculate the BMI: bmi\n",
    "bmi = np_weight_kg / np_height_m ** 2\n",
    "\n",
    "# Print out bmi\n",
    "print(bmi)"
   ]
  },
  {
   "cell_type": "markdown",
   "metadata": {},
   "source": [
    "### Lightweight baseball players\n",
    "Instructions:\n",
    "<ul>\n",
    "<li>Create a boolean numpy array: the element of the array should be True if the corresponding baseball player's BMI is below 21. You can use the < operator for this. Name the array light.</li>\n",
    "<li>Print the array light.</li>\n",
    "<li>Print out a numpy array with the BMIs of all baseball players whose BMI is below 21. Use light inside square brackets to do a selection on the bmi array.</li>\n",
    "</ul>"
   ]
  },
  {
   "cell_type": "code",
   "execution_count": 4,
   "metadata": {},
   "outputs": [
    {
     "ename": "NameError",
     "evalue": "name 'height_in' is not defined",
     "output_type": "error",
     "traceback": [
      "\u001b[1;31m---------------------------------------------------------------------------\u001b[0m",
      "\u001b[1;31mNameError\u001b[0m                                 Traceback (most recent call last)",
      "\u001b[1;32mc:\\Users\\pedro\\Área de Trabalho\\Faculdade\\Programação\\Python\\Datacamp Data Science\\1-Introduction_to_Python\\notebook.ipynb Cell 10'\u001b[0m in \u001b[0;36m<cell line: 7>\u001b[1;34m()\u001b[0m\n\u001b[0;32m      <a href='vscode-notebook-cell:/c%3A/Users/pedro/%C3%81rea%20de%20Trabalho/Faculdade/Programa%C3%A7%C3%A3o/Python/Datacamp%20Data%20Science/1-Introduction_to_Python/notebook.ipynb#ch0000009?line=3'>4</a>\u001b[0m \u001b[39mimport\u001b[39;00m \u001b[39mnumpy\u001b[39;00m \u001b[39mas\u001b[39;00m \u001b[39mnp\u001b[39;00m\n\u001b[0;32m      <a href='vscode-notebook-cell:/c%3A/Users/pedro/%C3%81rea%20de%20Trabalho/Faculdade/Programa%C3%A7%C3%A3o/Python/Datacamp%20Data%20Science/1-Introduction_to_Python/notebook.ipynb#ch0000009?line=5'>6</a>\u001b[0m \u001b[39m# Calculate the BMI: bmi\u001b[39;00m\n\u001b[1;32m----> <a href='vscode-notebook-cell:/c%3A/Users/pedro/%C3%81rea%20de%20Trabalho/Faculdade/Programa%C3%A7%C3%A3o/Python/Datacamp%20Data%20Science/1-Introduction_to_Python/notebook.ipynb#ch0000009?line=6'>7</a>\u001b[0m np_height_m \u001b[39m=\u001b[39m np\u001b[39m.\u001b[39marray(height_in) \u001b[39m*\u001b[39m \u001b[39m0.0254\u001b[39m\n\u001b[0;32m      <a href='vscode-notebook-cell:/c%3A/Users/pedro/%C3%81rea%20de%20Trabalho/Faculdade/Programa%C3%A7%C3%A3o/Python/Datacamp%20Data%20Science/1-Introduction_to_Python/notebook.ipynb#ch0000009?line=7'>8</a>\u001b[0m np_weight_kg \u001b[39m=\u001b[39m np\u001b[39m.\u001b[39marray(weight_lb) \u001b[39m*\u001b[39m \u001b[39m0.453592\u001b[39m\n\u001b[0;32m      <a href='vscode-notebook-cell:/c%3A/Users/pedro/%C3%81rea%20de%20Trabalho/Faculdade/Programa%C3%A7%C3%A3o/Python/Datacamp%20Data%20Science/1-Introduction_to_Python/notebook.ipynb#ch0000009?line=8'>9</a>\u001b[0m bmi \u001b[39m=\u001b[39m np_weight_kg \u001b[39m/\u001b[39m np_height_m \u001b[39m*\u001b[39m\u001b[39m*\u001b[39m \u001b[39m2\u001b[39m\n",
      "\u001b[1;31mNameError\u001b[0m: name 'height_in' is not defined"
     ]
    }
   ],
   "source": [
    "# height_in and weight_lb are available as a regular lists\n",
    "\n",
    "# Import numpy\n",
    "import numpy as np\n",
    "\n",
    "# Calculate the BMI: bmi\n",
    "np_height_m = np.array(height_in) * 0.0254\n",
    "np_weight_kg = np.array(weight_lb) * 0.453592\n",
    "bmi = np_weight_kg / np_height_m ** 2\n",
    "\n",
    "# Create the light array\n",
    "light = np.array(bmi < 21)\n",
    "\n",
    "# Print out light\n",
    "print(light)\n",
    "\n",
    "# Print out BMIs of all baseball players whose BMI is below 21\n",
    "print(bmi[light])"
   ]
  },
  {
   "cell_type": "markdown",
   "metadata": {},
   "source": [
    "### Subsetting NumPy Arrays\n",
    "Instructions:\n",
    "<ul>\n",
    "<li>Subset np_weight_lb by printing out the element at index 50.</li>\n",
    "<li>Print out a sub-array of np_height_in that contains the elements at index 100 up to and including index 110.</li>\n",
    "</ul>"
   ]
  },
  {
   "cell_type": "code",
   "execution_count": 5,
   "metadata": {},
   "outputs": [
    {
     "ename": "NameError",
     "evalue": "name 'weight_lb' is not defined",
     "output_type": "error",
     "traceback": [
      "\u001b[1;31m---------------------------------------------------------------------------\u001b[0m",
      "\u001b[1;31mNameError\u001b[0m                                 Traceback (most recent call last)",
      "\u001b[1;32mc:\\Users\\pedro\\Área de Trabalho\\Faculdade\\Programação\\Python\\Datacamp Data Science\\1-Introduction_to_Python\\notebook.ipynb Cell 12'\u001b[0m in \u001b[0;36m<cell line: 7>\u001b[1;34m()\u001b[0m\n\u001b[0;32m      <a href='vscode-notebook-cell:/c%3A/Users/pedro/%C3%81rea%20de%20Trabalho/Faculdade/Programa%C3%A7%C3%A3o/Python/Datacamp%20Data%20Science/1-Introduction_to_Python/notebook.ipynb#ch0000011?line=3'>4</a>\u001b[0m \u001b[39mimport\u001b[39;00m \u001b[39mnumpy\u001b[39;00m \u001b[39mas\u001b[39;00m \u001b[39mnp\u001b[39;00m\n\u001b[0;32m      <a href='vscode-notebook-cell:/c%3A/Users/pedro/%C3%81rea%20de%20Trabalho/Faculdade/Programa%C3%A7%C3%A3o/Python/Datacamp%20Data%20Science/1-Introduction_to_Python/notebook.ipynb#ch0000011?line=5'>6</a>\u001b[0m \u001b[39m# Store weight and height lists as numpy arrays\u001b[39;00m\n\u001b[1;32m----> <a href='vscode-notebook-cell:/c%3A/Users/pedro/%C3%81rea%20de%20Trabalho/Faculdade/Programa%C3%A7%C3%A3o/Python/Datacamp%20Data%20Science/1-Introduction_to_Python/notebook.ipynb#ch0000011?line=6'>7</a>\u001b[0m np_weight_lb \u001b[39m=\u001b[39m np\u001b[39m.\u001b[39marray(weight_lb)\n\u001b[0;32m      <a href='vscode-notebook-cell:/c%3A/Users/pedro/%C3%81rea%20de%20Trabalho/Faculdade/Programa%C3%A7%C3%A3o/Python/Datacamp%20Data%20Science/1-Introduction_to_Python/notebook.ipynb#ch0000011?line=7'>8</a>\u001b[0m np_height_in \u001b[39m=\u001b[39m np\u001b[39m.\u001b[39marray(height_in)\n\u001b[0;32m     <a href='vscode-notebook-cell:/c%3A/Users/pedro/%C3%81rea%20de%20Trabalho/Faculdade/Programa%C3%A7%C3%A3o/Python/Datacamp%20Data%20Science/1-Introduction_to_Python/notebook.ipynb#ch0000011?line=9'>10</a>\u001b[0m \u001b[39m# Print out the weight at index 50\u001b[39;00m\n",
      "\u001b[1;31mNameError\u001b[0m: name 'weight_lb' is not defined"
     ]
    }
   ],
   "source": [
    "# height_in and weight_lb are available as a regular lists\n",
    "\n",
    "# Import numpy\n",
    "import numpy as np\n",
    "\n",
    "# Store weight and height lists as numpy arrays\n",
    "np_weight_lb = np.array(weight_lb)\n",
    "np_height_in = np.array(height_in)\n",
    "\n",
    "# Print out the weight at index 50\n",
    "print(np_weight_lb[50])\n",
    "\n",
    "# Print out sub-array of np_height_in: index 100 up to and including index 110\n",
    "print(np_height_in[100:111])"
   ]
  },
  {
   "cell_type": "markdown",
   "metadata": {},
   "source": [
    "### Your First 2D NumPy Array\n",
    "Instructions:\n",
    "<ul>\n",
    "<li>Use np.array() to create a 2D numpy array from baseball. Name it np_baseball.</li>\n",
    "<li>Print out the type of np_baseball.</li>\n",
    "<li>Print out the shape attribute of np_baseball. Use np_baseball.shape.</li>\n",
    "</ul>"
   ]
  },
  {
   "cell_type": "code",
   "execution_count": 6,
   "metadata": {},
   "outputs": [
    {
     "name": "stdout",
     "output_type": "stream",
     "text": [
      "<class 'numpy.ndarray'>\n",
      "(4, 2)\n"
     ]
    }
   ],
   "source": [
    "# Create baseball, a list of lists\n",
    "baseball = [[180, 78.4],\n",
    "            [215, 102.7],\n",
    "            [210, 98.5],\n",
    "            [188, 75.2]]\n",
    "\n",
    "# Import numpy\n",
    "import numpy as np\n",
    "\n",
    "# Create a 2D numpy array from baseball: np_baseball\n",
    "np_baseball = np.array(baseball)\n",
    "\n",
    "# Print out the type of np_baseball\n",
    "print(type(np_baseball))\n",
    "\n",
    "# Print out the shape of np_baseball\n",
    "print(np_baseball.shape)"
   ]
  },
  {
   "cell_type": "markdown",
   "metadata": {},
   "source": [
    "### Baseball data in 2D form\n",
    "Instructions:\n",
    "<ul>\n",
    "<li>Use np.array() to create a 2D numpy array from baseball. Name it np_baseball.</li>\n",
    "<li>Print out the shape attribute of np_baseball.</li>\n",
    "</ul>"
   ]
  },
  {
   "cell_type": "code",
   "execution_count": 7,
   "metadata": {},
   "outputs": [
    {
     "name": "stdout",
     "output_type": "stream",
     "text": [
      "(4, 2)\n"
     ]
    }
   ],
   "source": [
    "# baseball is available as a regular list of lists\n",
    "\n",
    "# Import numpy package\n",
    "import numpy as np\n",
    "\n",
    "# Create a 2D numpy array from baseball: np_baseball\n",
    "np_baseball = np.array(baseball)\n",
    "\n",
    "# Print out the shape of np_baseball\n",
    "print(np_baseball.shape)"
   ]
  },
  {
   "cell_type": "markdown",
   "metadata": {},
   "source": [
    "### Subsetting 2D NumPy Arrays\n",
    "Instructions:\n",
    "<ul>\n",
    "<li>Print out the 50th row of np_baseball.</li>\n",
    "<li>Make a new variable, np_weight_lb, containing the entire second column of np_baseball.</li>\n",
    "<li>Select the height (first column) of the 124th baseball player in np_baseball and print it out.</li>\n",
    "</ul>"
   ]
  },
  {
   "cell_type": "code",
   "execution_count": 8,
   "metadata": {},
   "outputs": [
    {
     "name": "stdout",
     "output_type": "stream",
     "text": [
      "[[180.   78.4]\n",
      " [215.  102.7]\n",
      " [210.   98.5]\n",
      " [188.   75.2]]\n"
     ]
    },
    {
     "ename": "IndexError",
     "evalue": "index 123 is out of bounds for axis 0 with size 4",
     "output_type": "error",
     "traceback": [
      "\u001b[1;31m---------------------------------------------------------------------------\u001b[0m",
      "\u001b[1;31mIndexError\u001b[0m                                Traceback (most recent call last)",
      "\u001b[1;32mc:\\Users\\pedro\\Área de Trabalho\\Faculdade\\Programação\\Python\\Datacamp Data Science\\1-Introduction_to_Python\\notebook.ipynb Cell 19'\u001b[0m in \u001b[0;36m<cell line: 16>\u001b[1;34m()\u001b[0m\n\u001b[0;32m     <a href='vscode-notebook-cell:/c%3A/Users/pedro/%C3%81rea%20de%20Trabalho/Faculdade/Programa%C3%A7%C3%A3o/Python/Datacamp%20Data%20Science/1-Introduction_to_Python/notebook.ipynb#ch0000018?line=12'>13</a>\u001b[0m np_weight_lb \u001b[39m=\u001b[39m np\u001b[39m.\u001b[39marray(np_baseball[:, \u001b[39m1\u001b[39m])\n\u001b[0;32m     <a href='vscode-notebook-cell:/c%3A/Users/pedro/%C3%81rea%20de%20Trabalho/Faculdade/Programa%C3%A7%C3%A3o/Python/Datacamp%20Data%20Science/1-Introduction_to_Python/notebook.ipynb#ch0000018?line=14'>15</a>\u001b[0m \u001b[39m# Print out height of 124th player\u001b[39;00m\n\u001b[1;32m---> <a href='vscode-notebook-cell:/c%3A/Users/pedro/%C3%81rea%20de%20Trabalho/Faculdade/Programa%C3%A7%C3%A3o/Python/Datacamp%20Data%20Science/1-Introduction_to_Python/notebook.ipynb#ch0000018?line=15'>16</a>\u001b[0m \u001b[39mprint\u001b[39m(np_baseball[\u001b[39m123\u001b[39;49m, \u001b[39m0\u001b[39;49m])\n",
      "\u001b[1;31mIndexError\u001b[0m: index 123 is out of bounds for axis 0 with size 4"
     ]
    }
   ],
   "source": [
    "# baseball is available as a regular list of lists\n",
    "\n",
    "# Import numpy package\n",
    "import numpy as np\n",
    "\n",
    "# Create np_baseball (2 cols)\n",
    "np_baseball = np.array(baseball)\n",
    "\n",
    "# Print out the 50th row of np_baseball\n",
    "print(np_baseball[:50, :])\n",
    "\n",
    "# Select the entire second column of np_baseball: np_weight_lb\n",
    "np_weight_lb = np.array(np_baseball[:, 1])\n",
    "\n",
    "# Print out height of 124th player\n",
    "print(np_baseball[123, 0])"
   ]
  },
  {
   "cell_type": "markdown",
   "metadata": {},
   "source": [
    "### 2D Arithmetic\n",
    "Instructions:\n",
    "<ul>\n",
    "<li>You managed to get hold of the changes in height, weight and age of all baseball players. It is available as a 2D numpy array, updated. Add np_baseball and updated and print out the result.</li>\n",
    "<li>You want to convert the units of height and weight to metric (meters and kilograms, respectively). As a first step, create a numpy array with three values: 0.0254, 0.453592 and 1. Name this array conversion.</li>\n",
    "<li>Multiply np_baseball with conversion and print out the result.</li>\n",
    "</ul>"
   ]
  },
  {
   "cell_type": "code",
   "execution_count": 9,
   "metadata": {},
   "outputs": [
    {
     "ename": "NameError",
     "evalue": "name 'updated' is not defined",
     "output_type": "error",
     "traceback": [
      "\u001b[1;31m---------------------------------------------------------------------------\u001b[0m",
      "\u001b[1;31mNameError\u001b[0m                                 Traceback (most recent call last)",
      "\u001b[1;32mc:\\Users\\pedro\\Área de Trabalho\\Faculdade\\Programação\\Python\\Datacamp Data Science\\1-Introduction_to_Python\\notebook.ipynb Cell 21'\u001b[0m in \u001b[0;36m<cell line: 11>\u001b[1;34m()\u001b[0m\n\u001b[0;32m      <a href='vscode-notebook-cell:/c%3A/Users/pedro/%C3%81rea%20de%20Trabalho/Faculdade/Programa%C3%A7%C3%A3o/Python/Datacamp%20Data%20Science/1-Introduction_to_Python/notebook.ipynb#ch0000020?line=7'>8</a>\u001b[0m np_baseball \u001b[39m=\u001b[39m np\u001b[39m.\u001b[39marray(baseball)\n\u001b[0;32m     <a href='vscode-notebook-cell:/c%3A/Users/pedro/%C3%81rea%20de%20Trabalho/Faculdade/Programa%C3%A7%C3%A3o/Python/Datacamp%20Data%20Science/1-Introduction_to_Python/notebook.ipynb#ch0000020?line=9'>10</a>\u001b[0m \u001b[39m# Print out addition of np_baseball and updated\u001b[39;00m\n\u001b[1;32m---> <a href='vscode-notebook-cell:/c%3A/Users/pedro/%C3%81rea%20de%20Trabalho/Faculdade/Programa%C3%A7%C3%A3o/Python/Datacamp%20Data%20Science/1-Introduction_to_Python/notebook.ipynb#ch0000020?line=10'>11</a>\u001b[0m \u001b[39mprint\u001b[39m(np_baseball \u001b[39m+\u001b[39m updated)\n\u001b[0;32m     <a href='vscode-notebook-cell:/c%3A/Users/pedro/%C3%81rea%20de%20Trabalho/Faculdade/Programa%C3%A7%C3%A3o/Python/Datacamp%20Data%20Science/1-Introduction_to_Python/notebook.ipynb#ch0000020?line=12'>13</a>\u001b[0m \u001b[39m# Create numpy array: conversion\u001b[39;00m\n\u001b[0;32m     <a href='vscode-notebook-cell:/c%3A/Users/pedro/%C3%81rea%20de%20Trabalho/Faculdade/Programa%C3%A7%C3%A3o/Python/Datacamp%20Data%20Science/1-Introduction_to_Python/notebook.ipynb#ch0000020?line=13'>14</a>\u001b[0m conversion \u001b[39m=\u001b[39m np\u001b[39m.\u001b[39marray([\u001b[39m0.0254\u001b[39m, \u001b[39m0.453592\u001b[39m, \u001b[39m1\u001b[39m])\n",
      "\u001b[1;31mNameError\u001b[0m: name 'updated' is not defined"
     ]
    }
   ],
   "source": [
    "# baseball is available as a regular list of lists\n",
    "# updated is available as 2D numpy array\n",
    "\n",
    "# Import numpy package\n",
    "import numpy as np\n",
    "\n",
    "# Create np_baseball (3 cols)\n",
    "np_baseball = np.array(baseball)\n",
    "\n",
    "# Print out addition of np_baseball and updated\n",
    "print(np_baseball + updated)\n",
    "\n",
    "# Create numpy array: conversion\n",
    "conversion = np.array([0.0254, 0.453592, 1])\n",
    "\n",
    "# Print out product of np_baseball and conversion\n",
    "print(np_baseball * conversion)"
   ]
  },
  {
   "cell_type": "markdown",
   "metadata": {},
   "source": [
    "### Average versus median\n",
    "Instructions:\n",
    "<ul>\n",
    "<li>Create numpy array np_height_in that is equal to first column of np_baseball.</li>\n",
    "<li>Print out the mean of np_height_in.</li>\n",
    "<li>Print out the median of np_height_in.</li>\n",
    "</ul>"
   ]
  },
  {
   "cell_type": "code",
   "execution_count": 10,
   "metadata": {},
   "outputs": [
    {
     "name": "stdout",
     "output_type": "stream",
     "text": [
      "198.25\n",
      "199.0\n"
     ]
    }
   ],
   "source": [
    "# np_baseball is available\n",
    "\n",
    "# Import numpy\n",
    "import numpy as np\n",
    "\n",
    "# Create np_height_in from np_baseball\n",
    "np_height_in = np.array(np_baseball[:,0])\n",
    "\n",
    "# Print out the mean of np_height_in\n",
    "print(np.mean(np_height_in))\n",
    "\n",
    "# Print out the median of np_height_in\n",
    "print(np.median(np_height_in))"
   ]
  },
  {
   "cell_type": "markdown",
   "metadata": {},
   "source": [
    "### Explore the baseball data\n",
    "Instructions:\n",
    "<ul>\n",
    "<li>The code to print out the mean height is already included. Complete the code for the median height. Replace None with the correct code.</li>\n",
    "<li>Use np.std() on the first column of np_baseball to calculate stddev. Replace None with the correct code.</li>\n",
    "<li>Do big players tend to be heavier? Use np.corrcoef() to store the correlation between the first and second column of np_baseball in corr. Replace None with the correct code.</li>\n",
    "</ul>"
   ]
  },
  {
   "cell_type": "code",
   "execution_count": 11,
   "metadata": {},
   "outputs": [
    {
     "name": "stdout",
     "output_type": "stream",
     "text": [
      "Average: 198.25\n",
      "Median: 199.0\n",
      "Standard Deviation: 14.635146053251399\n",
      "Correlation: [[1.         0.95865738]\n",
      " [0.95865738 1.        ]]\n"
     ]
    }
   ],
   "source": [
    "# np_baseball is available\n",
    "\n",
    "# Import numpy\n",
    "import numpy as np\n",
    "\n",
    "# Print mean height (first column)\n",
    "avg = np.mean(np_baseball[:,0])\n",
    "print(\"Average: \" + str(avg))\n",
    "\n",
    "# Print median height. Replace 'None'\n",
    "med = np.median(np_baseball[:,0])\n",
    "print(\"Median: \" + str(med))\n",
    "\n",
    "# Print out the standard deviation on height. Replace 'None'\n",
    "stddev = np.std(np_baseball[:,0])\n",
    "print(\"Standard Deviation: \" + str(stddev))\n",
    "\n",
    "# Print out correlation between first and second column. Replace 'None'\n",
    "corr = np.corrcoef(np_baseball[:, 0], np_baseball[:, 1])\n",
    "print(\"Correlation: \" + str(corr))"
   ]
  },
  {
   "cell_type": "markdown",
   "metadata": {},
   "source": [
    "### Blend it all together\n",
    "Instructions:\n",
    "<ul>\n",
    "<li>Convert heights and positions, which are regular lists, to numpy arrays. Call them np_heights and np_positions.</li>\n",
    "<li>Extract all the heights of the goalkeepers. You can use a little trick here: use np_positions == 'GK' as an index for np_heights. Assign the result to gk_heights.</li>\n",
    "<li>Extract all the heights of all the other players. This time use np_positions != 'GK' as an index for np_heights. Assign the result to other_heights.</li>\n",
    "<li>Print out the median height of the goalkeepers using np.median(). Replace None with the correct code.</li>\n",
    "<li>Do the same for the other players. Print out their median height. Replace None with the correct code.</li>\n",
    "</ul>"
   ]
  },
  {
   "cell_type": "code",
   "execution_count": 12,
   "metadata": {},
   "outputs": [
    {
     "ename": "NameError",
     "evalue": "name 'heights' is not defined",
     "output_type": "error",
     "traceback": [
      "\u001b[1;31m---------------------------------------------------------------------------\u001b[0m",
      "\u001b[1;31mNameError\u001b[0m                                 Traceback (most recent call last)",
      "\u001b[1;32mc:\\Users\\pedro\\Área de Trabalho\\Faculdade\\Programação\\Python\\Datacamp Data Science\\1-Introduction_to_Python\\notebook.ipynb Cell 27'\u001b[0m in \u001b[0;36m<cell line: 7>\u001b[1;34m()\u001b[0m\n\u001b[0;32m      <a href='vscode-notebook-cell:/c%3A/Users/pedro/%C3%81rea%20de%20Trabalho/Faculdade/Programa%C3%A7%C3%A3o/Python/Datacamp%20Data%20Science/1-Introduction_to_Python/notebook.ipynb#ch0000026?line=3'>4</a>\u001b[0m \u001b[39mimport\u001b[39;00m \u001b[39mnumpy\u001b[39;00m \u001b[39mas\u001b[39;00m \u001b[39mnp\u001b[39;00m\n\u001b[0;32m      <a href='vscode-notebook-cell:/c%3A/Users/pedro/%C3%81rea%20de%20Trabalho/Faculdade/Programa%C3%A7%C3%A3o/Python/Datacamp%20Data%20Science/1-Introduction_to_Python/notebook.ipynb#ch0000026?line=5'>6</a>\u001b[0m \u001b[39m# Convert positions and heights to numpy arrays: np_positions, np_heights\u001b[39;00m\n\u001b[1;32m----> <a href='vscode-notebook-cell:/c%3A/Users/pedro/%C3%81rea%20de%20Trabalho/Faculdade/Programa%C3%A7%C3%A3o/Python/Datacamp%20Data%20Science/1-Introduction_to_Python/notebook.ipynb#ch0000026?line=6'>7</a>\u001b[0m np_heights \u001b[39m=\u001b[39m np\u001b[39m.\u001b[39marray(heights)\n\u001b[0;32m      <a href='vscode-notebook-cell:/c%3A/Users/pedro/%C3%81rea%20de%20Trabalho/Faculdade/Programa%C3%A7%C3%A3o/Python/Datacamp%20Data%20Science/1-Introduction_to_Python/notebook.ipynb#ch0000026?line=7'>8</a>\u001b[0m np_positions \u001b[39m=\u001b[39m np\u001b[39m.\u001b[39marray(positions)\n\u001b[0;32m     <a href='vscode-notebook-cell:/c%3A/Users/pedro/%C3%81rea%20de%20Trabalho/Faculdade/Programa%C3%A7%C3%A3o/Python/Datacamp%20Data%20Science/1-Introduction_to_Python/notebook.ipynb#ch0000026?line=9'>10</a>\u001b[0m \u001b[39m# Heights of the goalkeepers: gk_heights\u001b[39;00m\n",
      "\u001b[1;31mNameError\u001b[0m: name 'heights' is not defined"
     ]
    }
   ],
   "source": [
    "# heights and positions are available as lists\n",
    "\n",
    "# Import numpy\n",
    "import numpy as np\n",
    "\n",
    "# Convert positions and heights to numpy arrays: np_positions, np_heights\n",
    "np_heights = np.array(heights)\n",
    "np_positions = np.array(positions)\n",
    "\n",
    "# Heights of the goalkeepers: gk_heights\n",
    "gk_heights = np_heights[np_positions == 'GK']\n",
    "\n",
    "# Heights of the other players: other_heights\n",
    "other_heights = np_heights[np_positions != 'GK']\n",
    "\n",
    "# Print out the median height of goalkeepers. Replace 'None'\n",
    "print(\"Median height of goalkeepers: \" + str(np.median(gk_heights)))\n",
    "\n",
    "# Print out the median height of other players. Replace 'None'\n",
    "print(\"Median height of other players: \" + str(np.median(other_heights)))"
   ]
  }
 ],
 "metadata": {
  "kernelspec": {
   "display_name": "Python 3.9.12 ('base')",
   "language": "python",
   "name": "python3"
  },
  "language_info": {
   "codemirror_mode": {
    "name": "ipython",
    "version": 3
   },
   "file_extension": ".py",
   "mimetype": "text/x-python",
   "name": "python",
   "nbconvert_exporter": "python",
   "pygments_lexer": "ipython3",
   "version": "3.9.12"
  },
  "orig_nbformat": 4,
  "vscode": {
   "interpreter": {
    "hash": "aea149784bd30735ce6bf75b9a5314843328adf2083b944f20623ef50c2ca00d"
   }
  }
 },
 "nbformat": 4,
 "nbformat_minor": 2
}

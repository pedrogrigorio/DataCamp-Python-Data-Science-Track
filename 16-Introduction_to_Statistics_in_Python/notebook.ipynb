{
 "cells": [
  {
   "cell_type": "markdown",
   "metadata": {},
   "source": [
    "# Introduction to Statistics in Python"
   ]
  },
  {
   "cell_type": "markdown",
   "metadata": {},
   "source": [
    "### Libraries and datasets"
   ]
  },
  {
   "cell_type": "code",
   "execution_count": 41,
   "metadata": {},
   "outputs": [],
   "source": [
    "import numpy as np\n",
    "import pandas as pd\n",
    "import matplotlib.pyplot as plt\n",
    "\n",
    "food_consumption = pd.read_csv('datasets/food_consumption.csv')\n",
    "amir_deals = pd.read_csv('datasets/amir_deals.csv')\n",
    "restaurant_groups_dict = {'group_id':['A','B','C','D','E','F','G','H','I','J'], 'group_size':[2, 4, 6, 2, 2, 2, 3, 2, 4, 2]}\n",
    "restaurant_groups = pd.DataFrame(restaurant_groups_dict)"
   ]
  },
  {
   "cell_type": "markdown",
   "metadata": {},
   "source": [
    "## 1. Summary Statistics"
   ]
  },
  {
   "cell_type": "markdown",
   "metadata": {},
   "source": [
    "### Mean and median\n",
    "Instructions:\n",
    "<ul>\n",
    "<li>Import numpy with the alias np.</li>\n",
    "<li>Create two DataFrames: one that holds the rows of food_consumption for 'Belgium' and another that holds rows for 'USA'. Call these be_consumption and usa_consumption.</li>\n",
    "<li>Calculate the mean and median of kilograms of food consumed per person per year for both countries.</li>\n",
    "<li>Subset food_consumption for rows with data about Belgium and the USA.</li>\n",
    "<li>Group the subsetted data by country and select only the consumption column.</li>\n",
    "<li>Calculate the mean and median of the kilograms of food consumed per person per year in each country using .agg().</li>\n",
    "</ul>"
   ]
  },
  {
   "cell_type": "code",
   "execution_count": 9,
   "metadata": {},
   "outputs": [
    {
     "name": "stdout",
     "output_type": "stream",
     "text": [
      "Unnamed: 0      402.000000\n",
      "consumption      42.132727\n",
      "co2_emission    100.190000\n",
      "dtype: float64\n",
      "Unnamed: 0      402.00\n",
      "consumption      12.59\n",
      "co2_emission     21.34\n",
      "dtype: float64\n",
      "Unnamed: 0       61.00\n",
      "consumption      44.65\n",
      "co2_emission    156.26\n",
      "dtype: float64\n",
      "Unnamed: 0      61.00\n",
      "consumption     14.58\n",
      "co2_emission    15.34\n",
      "dtype: float64\n",
      "              mean  median\n",
      "country                   \n",
      "Belgium  42.132727   12.59\n",
      "USA      44.650000   14.58\n"
     ]
    },
    {
     "name": "stderr",
     "output_type": "stream",
     "text": [
      "C:\\Users\\pedro\\AppData\\Local\\Temp\\ipykernel_17976\\2198508770.py:11: FutureWarning: Dropping of nuisance columns in DataFrame reductions (with 'numeric_only=None') is deprecated; in a future version this will raise TypeError.  Select only valid columns before calling the reduction.\n",
      "  print(be_consumption.mean())\n",
      "C:\\Users\\pedro\\AppData\\Local\\Temp\\ipykernel_17976\\2198508770.py:12: FutureWarning: Dropping of nuisance columns in DataFrame reductions (with 'numeric_only=None') is deprecated; in a future version this will raise TypeError.  Select only valid columns before calling the reduction.\n",
      "  print(be_consumption.median())\n",
      "C:\\Users\\pedro\\AppData\\Local\\Temp\\ipykernel_17976\\2198508770.py:15: FutureWarning: Dropping of nuisance columns in DataFrame reductions (with 'numeric_only=None') is deprecated; in a future version this will raise TypeError.  Select only valid columns before calling the reduction.\n",
      "  print(usa_consumption.mean())\n",
      "C:\\Users\\pedro\\AppData\\Local\\Temp\\ipykernel_17976\\2198508770.py:16: FutureWarning: Dropping of nuisance columns in DataFrame reductions (with 'numeric_only=None') is deprecated; in a future version this will raise TypeError.  Select only valid columns before calling the reduction.\n",
      "  print(usa_consumption.median())\n"
     ]
    }
   ],
   "source": [
    "# Import numpy with alias np\n",
    "import numpy as np\n",
    "\n",
    "# Filter for Belgium\n",
    "be_consumption = food_consumption.query('country == \"Belgium\"')\n",
    "\n",
    "# Filter for USA\n",
    "usa_consumption = food_consumption.query('country == \"USA\"')\n",
    "\n",
    "# Calculate mean and median consumption in Belgium\n",
    "print(be_consumption.mean())\n",
    "print(be_consumption.median())\n",
    "\n",
    "# Calculate mean and median consumption in USA\n",
    "print(usa_consumption.mean())\n",
    "print(usa_consumption.median())\n",
    "\n",
    "# Subset for Belgium and USA only\n",
    "be_and_usa = food_consumption[(food_consumption['country'] == \"Belgium\") | (food_consumption['country'] == \"USA\")]\n",
    "\n",
    "# Group by country, select consumption column, and compute mean and median\n",
    "print(be_and_usa.groupby('country')['consumption'].agg(['mean','median']))"
   ]
  },
  {
   "cell_type": "markdown",
   "metadata": {},
   "source": [
    "### Mean vs. median\n",
    "Instructions:\n",
    "<ul>\n",
    "<li>Import matplotlib.pyplot with the alias plt.</li>\n",
    "<li>Subset food_consumption to get the rows where food_category is 'rice'.</li>\n",
    "<li>Create a histogram of co2_emission for rice and show the plot.</li>\n",
    "<li>Use .agg() to calculate the mean and median of co2_emission for rice.</li>\n",
    "</ul>"
   ]
  },
  {
   "cell_type": "code",
   "execution_count": 15,
   "metadata": {},
   "outputs": [
    {
     "data": {
      "image/png": "[encoded data removed]",
      "text/plain": [
       "<Figure size 432x288 with 1 Axes>"
      ]
     },
     "metadata": {
      "needs_background": "light"
     },
     "output_type": "display_data"
    },
    {
     "name": "stdout",
     "output_type": "stream",
     "text": [
      "        Unnamed: 0  consumption  co2_emission\n",
      "mean         718.5    29.375154     37.591615\n",
      "median       718.5    11.875000     15.200000\n"
     ]
    },
    {
     "name": "stderr",
     "output_type": "stream",
     "text": [
      "C:\\Users\\pedro\\AppData\\Local\\Temp\\ipykernel_17976\\2439675888.py:15: FutureWarning: ['country', 'food_category'] did not aggregate successfully. If any error is raised this will raise in a future version of pandas. Drop these columns/ops to avoid this warning.\n",
      "  print(rice_consumption.agg(['mean','median']))\n"
     ]
    }
   ],
   "source": [
    "# Import matplotlib.pyplot with alias plt\n",
    "import matplotlib.pyplot as plt\n",
    "\n",
    "# Subset for food_category equals rice\n",
    "rice_consumption = food_consumption.query('food_category == \"rice\"')\n",
    "\n",
    "# Histogram of co2_emission for rice and show plot\n",
    "plt.hist(rice_consumption['co2_emission'])\n",
    "plt.show()\n",
    "\n",
    "# Subset for food_category equals rice\n",
    "rice_consumption = food_consumption[food_consumption['food_category'] == 'rice']\n",
    "\n",
    "# Calculate mean and median of co2_emission with .agg()\n",
    "print(rice_consumption.agg(['mean','median']))"
   ]
  },
  {
   "cell_type": "markdown",
   "metadata": {},
   "source": [
    "### Quartiles, quantiles, and quintiles\n",
    "Instructions:\n",
    "<ul>\n",
    "<li>Calculate the quartiles of the co2_emission column of food_consumption.</li>\n",
    "<li>Calculate the six quantiles that split up the data into 5 pieces (quintiles) of the co2_emission column of food_consumption.</li>\n",
    "<li>Calculate the eleven quantiles of co2_emission that split up the data into ten pieces (deciles).</li>\n",
    "</ul>"
   ]
  },
  {
   "cell_type": "code",
   "execution_count": 2,
   "metadata": {},
   "outputs": [
    {
     "name": "stdout",
     "output_type": "stream",
     "text": [
      "[   0.        5.21     16.53     62.5975 1712.    ]\n",
      "[   0.       3.54    11.026   25.59    99.978 1712.   ]\n",
      "[0.00000e+00 6.68000e-01 3.54000e+00 7.04000e+00 1.10260e+01 1.65300e+01\n",
      " 2.55900e+01 4.42710e+01 9.99780e+01 2.03629e+02 1.71200e+03]\n"
     ]
    }
   ],
   "source": [
    "# Calculate the quartiles of co2_emission\n",
    "print(np.quantile(food_consumption['co2_emission'], [0, 0.25, 0.5, 0.75, 1]))\n",
    "\n",
    "# Calculate the quintiles of co2_emission\n",
    "print(np.quantile(food_consumption['co2_emission'], np.linspace(0, 1, 6)))\n",
    "\n",
    "# Calculate the deciles of co2_emission\n",
    "print(np.quantile(food_consumption['co2_emission'], np.linspace(0,1,11)))"
   ]
  },
  {
   "cell_type": "markdown",
   "metadata": {},
   "source": [
    "### Variance and standard deviation\n",
    "Instructions:\n",
    "<ul>\n",
    "<li>Calculate the variance and standard deviation of co2_emission for each food_category by grouping and aggregating.</li>\n",
    "<li>Import matplotlib.pyplot with alias plt.</li>\n",
    "<li>Create a histogram of co2_emission for the beef food_category and show the plot.</li>\n",
    "<li>Create a histogram of co2_emission for the eggs food_category and show the plot.</li>\n",
    "</ul>"
   ]
  },
  {
   "cell_type": "code",
   "execution_count": 7,
   "metadata": {},
   "outputs": [
    {
     "name": "stdout",
     "output_type": "stream",
     "text": [
      "                        var         std\n",
      "food_category                          \n",
      "beef           88748.408132  297.906710\n",
      "dairy          17671.891985  132.935669\n",
      "eggs              21.371819    4.622966\n",
      "fish             921.637349   30.358481\n",
      "lamb_goat      16475.518363  128.356996\n",
      "nuts              35.639652    5.969895\n",
      "pork            3094.963537   55.632396\n",
      "poultry          245.026801   15.653332\n",
      "rice            2281.376243   47.763754\n",
      "soybeans           0.879882    0.938020\n",
      "wheat             71.023937    8.427570\n"
     ]
    },
    {
     "data": {
      "image/png": "[encoded data removed]",
      "text/plain": [
       "<Figure size 432x288 with 1 Axes>"
      ]
     },
     "metadata": {
      "needs_background": "light"
     },
     "output_type": "display_data"
    },
    {
     "data": {
      "image/png": "[encoded data removed]",
      "text/plain": [
       "<Figure size 432x288 with 1 Axes>"
      ]
     },
     "metadata": {
      "needs_background": "light"
     },
     "output_type": "display_data"
    }
   ],
   "source": [
    "# Print variance and sd of co2_emission for each food_category\n",
    "print(food_consumption.groupby('food_category')['co2_emission'].agg([np.var, np.std]))\n",
    "\n",
    "# Import matplotlib.pyplot with alias plt\n",
    "import matplotlib.pyplot as plt\n",
    "\n",
    "# Create histogram of co2_emission for food_category 'beef'\n",
    "food_consumption[food_consumption['food_category'] == 'beef']['co2_emission'].hist()\n",
    "# Show plot\n",
    "plt.show()\n",
    "\n",
    "# Create histogram of co2_emission for food_category 'eggs'\n",
    "food_consumption[food_consumption['food_category'] == 'eggs']['co2_emission'].hist()\n",
    "# Show plot\n",
    "plt.show()"
   ]
  },
  {
   "cell_type": "markdown",
   "metadata": {},
   "source": [
    "### Finding outliers using IQR\n",
    "Instructions:\n",
    "<ul>\n",
    "<li>Calculate the total co2_emission per country by grouping by country and taking the sum of co2_emission. Store the resulting DataFrame as emissions_by_country.</li>\n",
    "<li>Compute the first and third quartiles of emissions_by_country and store these as q1 and q3.</li>\n",
    "<li>Calculate the interquartile range of emissions_by_country and store it as iqr.</li>\n",
    "<li>Calculate the lower and upper cutoffs for outliers of emissions_by_country, and store these as lower and upper.</li>\n",
    "<li>Subset emissions_by_country to get countries with a total emission greater than the upper cutoff or a total emission less than the lower cutoff.</li>\n",
    "</ul>"
   ]
  },
  {
   "cell_type": "code",
   "execution_count": 8,
   "metadata": {},
   "outputs": [
    {
     "name": "stdout",
     "output_type": "stream",
     "text": [
      "country\n",
      "Argentina    2172.4\n",
      "Name: co2_emission, dtype: float64\n"
     ]
    }
   ],
   "source": [
    "# Calculate total co2_emission per country: emissions_by_country\n",
    "emissions_by_country = food_consumption.groupby('country')['co2_emission'].sum()\n",
    "\n",
    "# Compute the first and third quantiles and IQR of emissions_by_country\n",
    "q1 = np.quantile(emissions_by_country, 0.25)\n",
    "q3 = np.quantile(emissions_by_country, 0.75)\n",
    "iqr = q3 - q1\n",
    "\n",
    "# Calculate the lower and upper cutoffs for outliers\n",
    "lower = q1 - 1.5 * iqr\n",
    "upper = q3 + 1.5 * iqr\n",
    "\n",
    "# Subset emissions_by_country to find outliers\n",
    "outliers = emissions_by_country[(emissions_by_country < lower) | (emissions_by_country > upper)]\n",
    "print(outliers)"
   ]
  },
  {
   "cell_type": "markdown",
   "metadata": {},
   "source": [
    "## 2. Random Numbers and Probability"
   ]
  },
  {
   "cell_type": "markdown",
   "metadata": {},
   "source": [
    "### Calculating probabilities\n",
    "Instructions:\n",
    "<ul>\n",
    "<li>Count the number of deals Amir worked on for each product type and store in counts.</li>\n",
    "<li>Calculate the probability of selecting a deal for the different product types by dividing the counts by the total number of deals Amir worked on. Save this as probs.</li>\n",
    "</ul>"
   ]
  },
  {
   "cell_type": "code",
   "execution_count": 10,
   "metadata": {},
   "outputs": [
    {
     "name": "stdout",
     "output_type": "stream",
     "text": [
      "Product B    0.348315\n",
      "Product D    0.224719\n",
      "Product A    0.129213\n",
      "Product C    0.084270\n",
      "Product F    0.061798\n",
      "Product H    0.044944\n",
      "Product I    0.039326\n",
      "Product E    0.028090\n",
      "Product N    0.016854\n",
      "Product G    0.011236\n",
      "Product J    0.011236\n",
      "Name: product, dtype: float64\n"
     ]
    }
   ],
   "source": [
    "# Count the deals for each product\n",
    "counts = amir_deals['product'].value_counts()\n",
    "\n",
    "# Calculate probability of picking a deal with each product\n",
    "probs = counts/counts.sum()\n",
    "print(probs)"
   ]
  },
  {
   "cell_type": "markdown",
   "metadata": {},
   "source": [
    "### Sampling deals\n",
    "Instructions:\n",
    "<ul>\n",
    "<li>Set the random seed to 24.</li>\n",
    "<li>Take a sample of 5 deals without replacement and store them as sample_without_replacement.</li>\n",
    "<li>Take a sample of 5 deals with replacement and save as sample_with_replacement.</li>\n",
    "</ul>"
   ]
  },
  {
   "cell_type": "code",
   "execution_count": 13,
   "metadata": {},
   "outputs": [
    {
     "name": "stdout",
     "output_type": "stream",
     "text": [
      "     Unnamed: 0    product   client status   amount  num_users\n",
      "127         128  Product B  Current    Won  2070.25          7\n",
      "148         149  Product D  Current    Won  3485.48         52\n",
      "77           78  Product B  Current    Won  6252.30         27\n",
      "104         105  Product D  Current    Won  4110.98         39\n",
      "166         167  Product C      New   Lost  3779.86         11\n",
      "     Unnamed: 0    product   client status   amount  num_users\n",
      "133         134  Product D  Current    Won  5992.86         98\n",
      "101         102  Product H  Current    Won  5116.34         63\n",
      "110         111  Product B  Current    Won   696.88         44\n",
      "49           50  Product B  Current    Won  3488.36         79\n",
      "56           57  Product D  Current    Won  6820.84         42\n"
     ]
    }
   ],
   "source": [
    "# Set random seed\n",
    "np.random.seed(24)\n",
    "\n",
    "# Sample 5 deals without replacement\n",
    "sample_without_replacement = amir_deals.sample(5)\n",
    "print(sample_without_replacement)\n",
    "\n",
    "# Sample 5 deals with replacement\n",
    "sample_with_replacement = amir_deals.sample(5, replace=True)\n",
    "print(sample_with_replacement)"
   ]
  },
  {
   "cell_type": "markdown",
   "metadata": {},
   "source": [
    "### Creating a probability distribution\n",
    "Instructions:\n",
    "<ul>\n",
    "<li>Create a histogram of the group_size column of restaurant_groups, setting bins to [2, 3, 4, 5, 6]. Remember to show the plot.</li>\n",
    "<li>Count the number of each group_size in restaurant_groups, then divide by the number of rows in restaurant_groups to calculate the probability of randomly selecting a group of each size. Save as size_dist.</li>\n",
    "<li>Reset the index of size_dist.</li>\n",
    "<li>Rename the columns of size_dist to group_size and prob.</li>\n",
    "<li>Calculate the expected value of the size_distribution, which represents the expected group size, by multiplying the group_size by the prob and taking the sum.</li>\n",
    "<li>Calculate the probability of randomly picking a group of 4 or more people by subsetting for groups of size 4 or more and summing the probabilities of selecting those groups.</li>\n",
    "</ul>"
   ]
  },
  {
   "cell_type": "code",
   "execution_count": 24,
   "metadata": {},
   "outputs": [
    {
     "name": "stdout",
     "output_type": "stream",
     "text": [
      "   group_size  prob\n",
      "0           2   0.6\n",
      "1           4   0.2\n",
      "2           6   0.1\n",
      "3           3   0.1\n",
      "2.9000000000000004\n",
      "0.30000000000000004\n"
     ]
    },
    {
     "data": {
      "image/png": "[encoded data removed]",
      "text/plain": [
       "<Figure size 432x288 with 1 Axes>"
      ]
     },
     "metadata": {
      "needs_background": "light"
     },
     "output_type": "display_data"
    }
   ],
   "source": [
    "# Create a histogram of restaurant_groups and show plot\n",
    "restaurant_groups['group_size'].hist(bins=[2,3,4,5,6])\n",
    "plt.show\n",
    "\n",
    "# Create probability distribution\n",
    "size_dist = restaurant_groups['group_size'].value_counts() / len(restaurant_groups)\n",
    "\n",
    "# Reset index and rename columns\n",
    "size_dist = size_dist.reset_index()\n",
    "size_dist.columns = ['group_size', 'prob']\n",
    "\n",
    "print(size_dist)\n",
    "\n",
    "# Calculate expected value\n",
    "expected_value = np.sum(size_dist['group_size'] * size_dist['prob'])\n",
    "print(expected_value)\n",
    "\n",
    "# Subset groups of size 4 or more\n",
    "groups_4_or_more = size_dist[size_dist['group_size'] >= 4]\n",
    "\n",
    "# Sum the probabilities of groups_4_or_more\n",
    "prob_4_or_more = np.sum(groups_4_or_more['prob'])\n",
    "print(prob_4_or_more)"
   ]
  },
  {
   "cell_type": "markdown",
   "metadata": {},
   "source": [
    "### Data back-ups\n",
    "Instructions:\n",
    "<ul>\n",
    "<li>To model how long Amir will wait for a back-up using a continuous uniform distribution, save his lowest possible wait time as min_time and his longest possible wait time as max_time. Remember that back-ups happen every 30 minutes.</li>\n",
    "<li>Import uniform from scipy.stats and calculate the probability that Amir has to wait less than 5 minutes, and store in a variable called prob_less_than_5.</li>\n",
    "<li>Calculate the probability that Amir has to wait more than 5 minutes, and store in a variable called prob_greater_than_5.</li>\n",
    "<li>Calculate the probability that Amir has to wait between 10 and 20 minutes, and store in a variable called prob_between_10_and_20.</li>\n",
    "</ul>"
   ]
  },
  {
   "cell_type": "code",
   "execution_count": 25,
   "metadata": {},
   "outputs": [
    {
     "name": "stdout",
     "output_type": "stream",
     "text": [
      "0.16666666666666666\n",
      "0.8333333333333334\n",
      "0.8333333333333334\n"
     ]
    }
   ],
   "source": [
    "# Min and max wait times for back-up that happens every 30 min\n",
    "min_time = 0\n",
    "max_time = 30\n",
    "\n",
    "# Import uniform from scipy.stats\n",
    "from scipy.stats import uniform\n",
    "\n",
    "# Calculate probability of waiting less than 5 mins\n",
    "prob_less_than_5 = uniform.cdf(5,0,30)\n",
    "print(prob_less_than_5)\n",
    "\n",
    "# Calculate probability of waiting more than 5 mins\n",
    "prob_greater_than_5 = 1 - uniform.cdf(5,0,30)\n",
    "print(prob_greater_than_5)\n",
    "\n",
    "# Calculate probability of waiting more than 5 mins\n",
    "prob_greater_than_5 = 1 - uniform.cdf(5,0,30)\n",
    "print(prob_greater_than_5)"
   ]
  },
  {
   "cell_type": "markdown",
   "metadata": {},
   "source": [
    "### Simulating wait times\n",
    "Instructions:\n",
    "<ul>\n",
    "<li>Set the random seed to 334.</li>\n",
    "<li>Import uniform from scipy.stats.</li>\n",
    "<li>Generate 1000 wait times from the continuous uniform distribution that models Amir's wait time. Save this as wait_times.</li>\n",
    "<li>Create a histogram of the simulated wait times and show the plot.</li>\n",
    "</ul>"
   ]
  },
  {
   "cell_type": "code",
   "execution_count": 26,
   "metadata": {},
   "outputs": [
    {
     "data": {
      "image/png": "[encoded data removed]",
      "text/plain": [
       "<Figure size 432x288 with 1 Axes>"
      ]
     },
     "metadata": {
      "needs_background": "light"
     },
     "output_type": "display_data"
    }
   ],
   "source": [
    "# Set random seed to 334\n",
    "np.random.seed(334)\n",
    "\n",
    "# Import uniform\n",
    "from scipy.stats import uniform\n",
    "\n",
    "# Generate 1000 wait times between 0 and 30 mins\n",
    "wait_times = uniform.rvs(0, 30, size=1000)\n",
    "\n",
    "# Create a histogram of simulated times and show plot\n",
    "plt.hist(wait_times)\n",
    "plt.show()"
   ]
  },
  {
   "cell_type": "markdown",
   "metadata": {},
   "source": [
    "### Simulating sales deals\n",
    "Instructions:\n",
    "<ul>\n",
    "<li>Import binom from scipy.stats and set the random seed to 10.</li>\n",
    "<li>Simulate 1 deal worked on by Amir, who wins 30% of the deals he works on.</li>\n",
    "<li>Simulate a typical week of Amir's deals, or one week of 3 deals.</li>\n",
    "<li>Simulate a year's worth of Amir's deals, or 52 weeks of 3 deals each, and store in deals.</li>\n",
    "<li>Print the mean number of deals he won per week.</li>\n",
    "</ul>"
   ]
  },
  {
   "cell_type": "code",
   "execution_count": 27,
   "metadata": {},
   "outputs": [
    {
     "name": "stdout",
     "output_type": "stream",
     "text": [
      "[1]\n",
      "[0]\n",
      "[1 1 1 0 0 1 0 0 1 2 0 1 2 1 1 0 2 1 1 0 1 1 1 1 1 1 1 1 2 1 2 0 0 0 0 2 0\n",
      " 1 1 2 0 2 1 1 0 2 0 0 1 0 2 0]\n"
     ]
    }
   ],
   "source": [
    "# Import binom from scipy.stats\n",
    "from scipy.stats import binom\n",
    "\n",
    "# Set random seed to 10\n",
    "np.random.seed(10)\n",
    "\n",
    "# Simulate a single deal\n",
    "print(binom.rvs(1, 0.3, size=1))\n",
    "\n",
    "# Simulate 1 week of 3 deals\n",
    "print(binom.rvs(3, 0.3, size=1))\n",
    "\n",
    "# Simulate 52 weeks of 3 deals\n",
    "deals = binom.rvs(3, 0.3, size=52)\n",
    "\n",
    "# Print mean deals won per week\n",
    "print(deals)"
   ]
  },
  {
   "cell_type": "markdown",
   "metadata": {},
   "source": [
    "### Calculating binomial probabilities\n",
    "Instructions:\n",
    "<ul>\n",
    "<li>What's the probability that Amir closes all 3 deals in a week? Save this as prob_3.</li>\n",
    "<li>What's the probability that Amir closes 1 or fewer deals in a week? Save this as prob_less_than_or_equal_1.</li>\n",
    "<li>What's the probability that Amir closes more than 1 deal? Save this as prob_greater_than_1.</li>\n",
    "</ul>"
   ]
  },
  {
   "cell_type": "code",
   "execution_count": 28,
   "metadata": {},
   "outputs": [
    {
     "name": "stdout",
     "output_type": "stream",
     "text": [
      "0.026999999999999996\n",
      "0.784\n",
      "0.21599999999999997\n"
     ]
    }
   ],
   "source": [
    "# Probability of closing 3 out of 3 deals\n",
    "prob_3 = binom.pmf(3, 3, 0.3)\n",
    "\n",
    "print(prob_3)\n",
    "\n",
    "# Probability of closing <= 1 deal out of 3 deals\n",
    "prob_less_than_or_equal_1 = binom.cdf(1,3,0.3)\n",
    "\n",
    "print(prob_less_than_or_equal_1)\n",
    "\n",
    "# Probability of closing > 1 deal out of 3 deals\n",
    "prob_greater_than_1 = 1 - binom.cdf(1, 3, 0.3)\n",
    "\n",
    "print(prob_greater_than_1)"
   ]
  },
  {
   "cell_type": "markdown",
   "metadata": {},
   "source": [
    "### How many sales will be won?\n",
    "Instructions:\n",
    "<ul>\n",
    "<li>Calculate the expected number of sales out of the 3 he works on that Amir will win each week if he maintains his 30% win rate.</li>\n",
    "<li>Calculate the expected number of sales out of the 3 he works on that he'll win if his win rate drops to 25%.</li>\n",
    "<li>Calculate the expected number of sales out of the 3 he works on that he'll win if his win rate rises to 35%.</li>\n",
    "</ul>"
   ]
  },
  {
   "cell_type": "code",
   "execution_count": 29,
   "metadata": {},
   "outputs": [
    {
     "name": "stdout",
     "output_type": "stream",
     "text": [
      "0.8999999999999999\n",
      "0.75\n",
      "1.0499999999999998\n"
     ]
    }
   ],
   "source": [
    "# Expected number won with 30% win rate\n",
    "won_30pct = 3 * 0.3\n",
    "print(won_30pct)\n",
    "\n",
    "# Expected number won with 25% win rate\n",
    "won_25pct = 3 * 0.25\n",
    "print(won_25pct)\n",
    "\n",
    "# Expected number won with 35% win rate\n",
    "won_35pct = 3 * 0.35\n",
    "print(won_35pct)"
   ]
  },
  {
   "cell_type": "markdown",
   "metadata": {},
   "source": [
    "## 3. More Distributions and the Central Limit Theorem"
   ]
  },
  {
   "cell_type": "markdown",
   "metadata": {},
   "source": [
    "### Distribution of Amir's sales\n",
    "Instructions:\n",
    "<ul>\n",
    "<li>Create a histogram with 10 bins to visualize the distribution of the amount. Show the plot.</li>\n",
    "</ul>"
   ]
  },
  {
   "cell_type": "code",
   "execution_count": 30,
   "metadata": {},
   "outputs": [
    {
     "data": {
      "image/png": "[encoded data removed]",
      "text/plain": [
       "<Figure size 432x288 with 1 Axes>"
      ]
     },
     "metadata": {
      "needs_background": "light"
     },
     "output_type": "display_data"
    }
   ],
   "source": [
    "# Histogram of amount with 10 bins and show plot\n",
    "amir_deals['amount'].hist(bins=10)\n",
    "plt.show()"
   ]
  },
  {
   "cell_type": "markdown",
   "metadata": {},
   "source": [
    "### Probabilities from the normal distribution\n",
    "Instructions:\n",
    "<ul>\n",
    "<li>What's the probability of Amir closing a deal worth less than $7500?</li>\n",
    "<li>What's the probability of Amir closing a deal worth more than $1000?</li>\n",
    "<li>What's the probability of Amir closing a deal worth between $3000 and $7000?</li>\n",
    "<li>What amount will 25% of Amir's sales be less than?</li>\n",
    "</ul>"
   ]
  },
  {
   "cell_type": "code",
   "execution_count": 31,
   "metadata": {},
   "outputs": [
    {
     "name": "stdout",
     "output_type": "stream",
     "text": [
      "0.8943502263331446\n",
      "0.9772498680518208\n",
      "0.6826894921370859\n",
      "3651.0204996078364\n"
     ]
    }
   ],
   "source": [
    "from scipy.stats import norm\n",
    "\n",
    "# Probability of deal < 7500\n",
    "prob_less_7500 = norm.cdf(7500,5000,2000)\n",
    "\n",
    "print(prob_less_7500)\n",
    "\n",
    "# Probability of deal > 1000\n",
    "prob_over_1000 = 1 - norm.cdf(1000, 5000, 2000)\n",
    "\n",
    "print(prob_over_1000)\n",
    "\n",
    "# Probability of deal between 3000 and 7000\n",
    "prob_3000_to_7000 = norm.cdf(7000, 5000, 2000) - norm.cdf(3000, 5000, 2000)\n",
    "\n",
    "print(prob_3000_to_7000)\n",
    "\n",
    "# Calculate amount that 25% of deals will be less than\n",
    "pct_25 = norm.ppf(0.25, 5000, 2000)\n",
    "\n",
    "print(pct_25)"
   ]
  },
  {
   "cell_type": "markdown",
   "metadata": {},
   "source": [
    "### Simulating sales under new market conditions\n",
    "Instructions:\n",
    "<ul>\n",
    "<li>Currently, Amir's average sale amount is $5000. Calculate what his new average amount will be if it increases by 20% and store this in new_mean.</li>\n",
    "<li>Amir's current standard deviation is $2000. Calculate what his new standard deviation will be if it increases by 30% and store this in new_sd.</li>\n",
    "<li>Create a variable called new_sales, which contains 36 simulated amounts from a normal distribution with a mean of new_mean and a standard deviation of new_sd.</li>\n",
    "<li>Plot the distribution of the new_sales amounts using a histogram and show the plot.</li>\n",
    "</ul>"
   ]
  },
  {
   "cell_type": "code",
   "execution_count": 33,
   "metadata": {},
   "outputs": [
    {
     "data": {
      "image/png": "[encoded data removed]",
      "text/plain": [
       "<Figure size 432x288 with 1 Axes>"
      ]
     },
     "metadata": {
      "needs_background": "light"
     },
     "output_type": "display_data"
    }
   ],
   "source": [
    "# Calculate new average amount\n",
    "new_mean = 5000*1.2\n",
    "\n",
    "# Calculate new standard deviation\n",
    "new_sd = 2000*1.3\n",
    "\n",
    "# Simulate 36 new sales\n",
    "new_sales = norm.rvs(new_mean, new_sd, size=36)\n",
    "\n",
    "# Create histogram and show\n",
    "plt.hist(new_sales)\n",
    "plt.show()"
   ]
  },
  {
   "cell_type": "markdown",
   "metadata": {},
   "source": [
    "### The CLT in action\n",
    "Instructions:\n",
    "<ul>\n",
    "<li>Create a histogram of the num_users column of amir_deals and show the plot.</li>\n",
    "<li>Set the seed to 104.</li>\n",
    "<li>Take a sample of size 20 with replacement from the num_users column of amir_deals, and take the mean.</li>\n",
    "<li>Repeat this 100 times using a for loop and store as sample_means. This will take 100 different samples and calculate the mean of each.</li>\n",
    "<li>Convert sample_means into a pd.Series, create a histogram of the sample_means, and show the plot.</li>\n",
    "</ul>"
   ]
  },
  {
   "cell_type": "code",
   "execution_count": 36,
   "metadata": {},
   "outputs": [
    {
     "data": {
      "image/png": "[encoded data removed]",
      "text/plain": [
       "<Figure size 432x288 with 1 Axes>"
      ]
     },
     "metadata": {
      "needs_background": "light"
     },
     "output_type": "display_data"
    },
    {
     "data": {
      "image/png": "[encoded data removed]",
      "text/plain": [
       "<Figure size 432x288 with 1 Axes>"
      ]
     },
     "metadata": {
      "needs_background": "light"
     },
     "output_type": "display_data"
    }
   ],
   "source": [
    "# Create a histogram of num_users and show\n",
    "amir_deals['num_users'].hist()\n",
    "plt.show()\n",
    "\n",
    "# Set seed to 104\n",
    "np.random.seed(104)\n",
    "\n",
    "sample_means = []\n",
    "# Loop 100 times\n",
    "for i in range(100):\n",
    "  # Take sample of 20 num_users\n",
    "  samp_20 = amir_deals['num_users'].sample(20, replace=True)\n",
    "  # Calculate mean of samp_20\n",
    "  samp_20_mean = np.mean(samp_20)\n",
    "  # Append samp_20_mean to sample_means\n",
    "  sample_means.append(samp_20_mean)\n",
    "  \n",
    "# Convert to Series and plot histogram\n",
    "sample_means_series = pd.Series(sample_means)\n",
    "sample_means_series.hist()\n",
    "# Show plot\n",
    "plt.show()"
   ]
  },
  {
   "cell_type": "markdown",
   "metadata": {},
   "source": [
    "### The mean of means\n",
    "Instructions:\n",
    "<ul>\n",
    "<li>Set the random seed to 321.</li>\n",
    "<li>Take 30 samples (with replacement) of size 20 from all_deals['num_users'] and take the mean of each sample. Store the sample means in sample_means.</li>\n",
    "<li>Print the mean of sample_means.</li>\n",
    "<li>Print the mean of the num_users column of amir_deals.</li>\n",
    "</ul>"
   ]
  },
  {
   "cell_type": "code",
   "execution_count": null,
   "metadata": {},
   "outputs": [],
   "source": [
    "# Set seed to 321\n",
    "np.random.seed(321)\n",
    "\n",
    "sample_means = []\n",
    "# Loop 30 times to take 30 means\n",
    "for i in range(30):\n",
    "  # Take sample of size 20 from num_users col of all_deals with replacement\n",
    "  cur_sample = all_deals['num_users'].sample(20, replace=True)\n",
    "  # Take mean of cur_sample\n",
    "  cur_mean = np.mean(cur_sample)\n",
    "  # Append cur_mean to sample_means\n",
    "  sample_means.append(cur_mean)\n",
    "\n",
    "# Print mean of sample_means\n",
    "print(np.mean(sample_means))\n",
    "\n",
    "# Print mean of num_users in amir_deals\n",
    "print(amir_deals['num_users'].mean())"
   ]
  },
  {
   "cell_type": "markdown",
   "metadata": {},
   "source": [
    "### Tracking lead responses\n",
    "Instructions:\n",
    "<ul>\n",
    "<li>Import poisson from scipy.stats and calculate the probability that Amir responds to 5 leads in a day, given that he responds to an average of 4.</li>\n",
    "<li>Amir's coworker responds to an average of 5.5 leads per day. What is the probability that she answers 5 leads in a day?</li>\n",
    "<li>What's the probability that Amir responds to 2 or fewer leads in a day?</li>\n",
    "<li>What's the probability that Amir responds to more than 10 leads in a day?</li>\n",
    "</ul>"
   ]
  },
  {
   "cell_type": "code",
   "execution_count": 42,
   "metadata": {},
   "outputs": [
    {
     "name": "stdout",
     "output_type": "stream",
     "text": [
      "0.1562934518505317\n",
      "0.17140068409793663\n",
      "0.23810330555354436\n",
      "0.0028397661205137315\n"
     ]
    }
   ],
   "source": [
    "# Import poisson from scipy.stats\n",
    "from scipy.stats import poisson\n",
    "\n",
    "# Probability of 5 responses\n",
    "prob_5 = poisson.pmf(5,4)\n",
    "\n",
    "print(prob_5)\n",
    "\n",
    "# Probability of 5 responses\n",
    "prob_coworker = poisson.pmf(5,5.5)\n",
    "\n",
    "print(prob_coworker)\n",
    "\n",
    "# Probability of 2 or fewer responses\n",
    "prob_2_or_less = poisson.cdf(2,4)\n",
    "\n",
    "print(prob_2_or_less)\n",
    "\n",
    "# Import poisson from scipy.stats\n",
    "from scipy.stats import poisson\n",
    "\n",
    "# Probability of > 10 responses\n",
    "prob_over_10 = 1 - poisson.cdf(10,4)\n",
    "\n",
    "print(prob_over_10)"
   ]
  },
  {
   "cell_type": "markdown",
   "metadata": {},
   "source": [
    "### Modeling time between leads\n",
    "Instructions:\n",
    "<ul>\n",
    "<li>Import expon from scipy.stats. What's the probability it takes Amir less than an hour to respond to a lead?</li>\n",
    "<li>What's the probability it takes Amir more than 4 hours to respond to a lead?</li>\n",
    "<li>What's the probability it takes Amir 3-4 hours to respond to a lead?</li>\n",
    "</ul>"
   ]
  },
  {
   "cell_type": "code",
   "execution_count": 45,
   "metadata": {},
   "outputs": [
    {
     "name": "stdout",
     "output_type": "stream",
     "text": [
      "0.3296799539643607\n",
      "0.20189651799465536\n",
      "0.09929769391754684\n"
     ]
    }
   ],
   "source": [
    "# Import expon from scipy.stats\n",
    "from scipy.stats import expon\n",
    "\n",
    "# Print probability response takes < 1 hour\n",
    "print(expon.cdf(1, scale=2.5))\n",
    "\n",
    "# Print probability response takes > 4 hours\n",
    "print(1 - expon.cdf(4, scale = 2.5))\n",
    "\n",
    "# Print probability response takes 3-4 hours\n",
    "print(expon.cdf(4, scale=2.5) - expon.cdf(3, scale=2.5))"
   ]
  },
  {
   "cell_type": "markdown",
   "metadata": {},
   "source": [
    "## 4. Correlation and Experimental Design"
   ]
  }
 ],
 "metadata": {
  "kernelspec": {
   "display_name": "Python 3.9.12 ('base')",
   "language": "python",
   "name": "python3"
  },
  "language_info": {
   "codemirror_mode": {
    "name": "ipython",
    "version": 3
   },
   "file_extension": ".py",
   "mimetype": "text/x-python",
   "name": "python",
   "nbconvert_exporter": "python",
   "pygments_lexer": "ipython3",
   "version": "3.9.12"
  },
  "orig_nbformat": 4,
  "vscode": {
   "interpreter": {
    "hash": "aea149784bd30735ce6bf75b9a5314843328adf2083b944f20623ef50c2ca00d"
   }
  }
 },
 "nbformat": 4,
 "nbformat_minor": 2
}

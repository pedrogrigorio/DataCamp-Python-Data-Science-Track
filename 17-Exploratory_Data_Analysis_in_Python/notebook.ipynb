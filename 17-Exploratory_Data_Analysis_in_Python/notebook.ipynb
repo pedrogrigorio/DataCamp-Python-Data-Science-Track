{
 "cells": [
  {
   "cell_type": "markdown",
   "metadata": {},
   "source": [
    "# Exploratory Data Analysis in Python"
   ]
  },
  {
   "cell_type": "markdown",
   "metadata": {},
   "source": [
    "### Libraries and datasets"
   ]
  },
  {
   "cell_type": "code",
   "execution_count": 13,
   "metadata": {},
   "outputs": [],
   "source": [
    "import pandas as pd\n",
    "import numpy as np\n",
    "import matplotlib.pyplot as plt\n",
    "import seaborn as sns\n",
    "from empiricaldist import Pmf, Cdf\n",
    "from scipy.stats import norm\n",
    "\n",
    "nsfg = pd.read_hdf('datasets/nsfg.hdf5')\n",
    "gss = pd.read_hdf('datasets/gss.hdf5')"
   ]
  },
  {
   "cell_type": "markdown",
   "metadata": {},
   "source": [
    "## 1. Read, clean, and validate"
   ]
  },
  {
   "cell_type": "markdown",
   "metadata": {},
   "source": [
    "### Exploring the NSFG data\n",
    "Instructions:\n",
    "<ul>\n",
    "<li>Calculate the number of rows and columns in the DataFrame nsfg.</li>\n",
    "<li>Display the names of the columns in nsfg.</li>\n",
    "<li>Select the column 'birthwgt_oz1' and assign it to a new variable called ounces.</li>\n",
    "<li>Display the first 5 elements of ounces.</li>\n",
    "</ul>"
   ]
  },
  {
   "cell_type": "code",
   "execution_count": 2,
   "metadata": {},
   "outputs": [
    {
     "name": "stdout",
     "output_type": "stream",
     "text": [
      "(9358, 10)\n",
      "Index(['caseid', 'outcome', 'birthwgt_lb1', 'birthwgt_oz1', 'prglngth',\n",
      "       'nbrnaliv', 'agecon', 'agepreg', 'hpagelb', 'wgt2013_2015'],\n",
      "      dtype='object')\n",
      "0     4.0\n",
      "1    12.0\n",
      "2     4.0\n",
      "3     NaN\n",
      "4    13.0\n",
      "Name: birthwgt_oz1, dtype: float64\n"
     ]
    }
   ],
   "source": [
    "# Display the number of rows and columns\n",
    "print(nsfg.shape)\n",
    "\n",
    "# Display the names of the columns\n",
    "print(nsfg.columns)\n",
    "\n",
    "# Select column birthwgt_oz1: ounces\n",
    "ounces = nsfg['birthwgt_oz1']\n",
    "\n",
    "# Print the first 5 elements of ounces\n",
    "print(ounces.head())"
   ]
  },
  {
   "cell_type": "markdown",
   "metadata": {},
   "source": [
    "### Clean a variable\n",
    "Instructions:\n",
    "<ul>\n",
    "<li>In the 'nbrnaliv' column, replace the value 8, in place, with the special value NaN.</li>\n",
    "<li>Confirm that the value 8 no longer appears in this column by printing the values and their frequencies.</li>\n",
    "</ul>"
   ]
  },
  {
   "cell_type": "code",
   "execution_count": 6,
   "metadata": {},
   "outputs": [
    {
     "name": "stdout",
     "output_type": "stream",
     "text": [
      "1.0    6379\n",
      "2.0     100\n",
      "3.0       5\n",
      "Name: nbrnaliv, dtype: int64\n"
     ]
    }
   ],
   "source": [
    "# Replace the value 8 with NaN\n",
    "nsfg['nbrnaliv'].replace(8, np.nan, inplace=True)\n",
    "\n",
    "# Print the values and their frequencies\n",
    "print(nsfg['nbrnaliv'].value_counts())"
   ]
  },
  {
   "cell_type": "markdown",
   "metadata": {},
   "source": [
    "### Compute a variable\n",
    "Instructions:\n",
    "<ul>\n",
    "<li>Select 'agecon' and 'agepreg', divide them by 100, and assign them to the local variables agecon and agepreg.</li>\n",
    "<li>Compute the difference, which is an estimate of the duration of the pregnancy. Keep in mind that for each pregnancy, agepreg will be larger than agecon.</li>\n",
    "<li>Use .describe() to compute the mean duration and other summary statistics.</li>\n",
    "</ul>"
   ]
  },
  {
   "cell_type": "code",
   "execution_count": 7,
   "metadata": {},
   "outputs": [
    {
     "name": "stdout",
     "output_type": "stream",
     "text": [
      "count    9109.000000\n",
      "mean        0.552069\n",
      "std         0.271479\n",
      "min         0.000000\n",
      "25%         0.250000\n",
      "50%         0.670000\n",
      "75%         0.750000\n",
      "max         0.920000\n",
      "dtype: float64\n"
     ]
    }
   ],
   "source": [
    "# Select the columns and divide by 100\n",
    "agecon = nsfg['agecon'] / 100\n",
    "agepreg = nsfg['agepreg'] / 100\n",
    "\n",
    "# Compute the difference\n",
    "preg_length = agepreg - agecon\n",
    "\n",
    "# Compute summary statistics\n",
    "print(preg_length.describe())"
   ]
  },
  {
   "cell_type": "markdown",
   "metadata": {},
   "source": [
    "### Make a histogram\n",
    "Instructions:\n",
    "<ul>\n",
    "<li>Plot a histogram of agecon with 20 bins.</li>\n",
    "<li>Adapt your code to make an unfilled histogram by setting the parameter histtype to be 'step'.</li>\n",
    "</ul>"
   ]
  },
  {
   "cell_type": "code",
   "execution_count": 10,
   "metadata": {},
   "outputs": [
    {
     "data": {
      "image/png": "[encoded data removed]",
      "text/plain": [
       "<Figure size 432x288 with 1 Axes>"
      ]
     },
     "metadata": {
      "needs_background": "light"
     },
     "output_type": "display_data"
    }
   ],
   "source": [
    "# Plot the histogram\n",
    "plt.hist(agecon, bins=20, histtype='step')\n",
    "\n",
    "# Label the axes\n",
    "plt.xlabel('Age at conception')\n",
    "plt.ylabel('Number of pregnancies')\n",
    "\n",
    "# Show the figure\n",
    "plt.show()"
   ]
  },
  {
   "cell_type": "markdown",
   "metadata": {},
   "source": [
    "### Compute birth weight\n",
    "Instructions:\n",
    "<ul>\n",
    "<li>Make a Boolean Series called full_term that is true for babies with 'prglngth' greater than or equal to 37 weeks.</li>\n",
    "<li>Use full_term and birth_weight to select birth weight in pounds for full-term babies. Store the result in full_term_weight.</li>\n",
    "<li>Compute the mean weight of full-term babies.</li>\n",
    "</ul>"
   ]
  },
  {
   "cell_type": "code",
   "execution_count": 13,
   "metadata": {},
   "outputs": [],
   "source": [
    "# Create a Boolean Series for full-term babies\n",
    "full_term = nsfg['prglngth'] >= 37\n",
    "\n",
    "# Select the weights of full-term babies\n",
    "full_term_weight = birth_weight[full_term]\n",
    "\n",
    "# Compute the mean weight of full-term babies\n",
    "print(full_term_weight.mean())"
   ]
  },
  {
   "cell_type": "markdown",
   "metadata": {},
   "source": [
    "### Filter\n",
    "Instructions:\n",
    "<ul>\n",
    "<li>Use the variable 'nbrnaliv' to make a Boolean Series that is True for single births (where 'nbrnaliv' equals 1) and False otherwise.</li>\n",
    "<li>Use Boolean Series and logical operators to select single, full-term babies and compute their mean birth weight.</li>\n",
    "<li>For comparison, select multiple, full-term babies and compute their mean birth weight.</li>\n",
    "</ul>"
   ]
  },
  {
   "cell_type": "code",
   "execution_count": null,
   "metadata": {},
   "outputs": [],
   "source": [
    "# Filter full-term babies\n",
    "full_term = nsfg['prglngth'] >= 37\n",
    "\n",
    "# Filter single births\n",
    "single = nsfg['nbrnaliv'] == 1\n",
    "\n",
    "# Compute birth weight for single full-term babies\n",
    "single_full_term_weight = birth_weight[single & full_term]\n",
    "print('Single full-term mean:', single_full_term_weight.mean())\n",
    "\n",
    "# Compute birth weight for multiple full-term babies\n",
    "mult_full_term_weight = birth_weight[~single & full_term]\n",
    "print('Multiple full-term mean:', mult_full_term_weight.mean())"
   ]
  },
  {
   "cell_type": "markdown",
   "metadata": {},
   "source": [
    "### Make a PMF\n",
    "Instructions:\n",
    "<ul>\n",
    "<li>Make a PMF for year with normalize=False and display the result.</li>\n",
    "</ul>"
   ]
  },
  {
   "cell_type": "code",
   "execution_count": 6,
   "metadata": {},
   "outputs": [
    {
     "name": "stdout",
     "output_type": "stream",
     "text": [
      "0        1972\n",
      "1        1972\n",
      "2        1972\n",
      "3        1972\n",
      "4        1972\n",
      "         ... \n",
      "62461    2016\n",
      "62462    2016\n",
      "62463    2016\n",
      "62464    2016\n",
      "62465    2016\n",
      "Name: , Length: 62466, dtype: int64\n"
     ]
    }
   ],
   "source": [
    "# Compute the PMF for year\n",
    "pmf_year = Pmf(gss['year'])\n",
    "\n",
    "# Print the result\n",
    "print(pmf_year)"
   ]
  },
  {
   "cell_type": "markdown",
   "metadata": {},
   "source": [
    "### Plot a PMF\n",
    "Instructions:\n",
    "<ul>\n",
    "<li>Select the 'age' column from the gss DataFrame and store the result in age.</li>\n",
    "<li>Make a normalized PMF of age. Store the result in pmf_age.</li>\n",
    "<li>Plot pmf_age as a bar chart.</li>\n",
    "</ul>"
   ]
  },
  {
   "cell_type": "code",
   "execution_count": 7,
   "metadata": {},
   "outputs": [
    {
     "data": {
      "image/png": "[encoded data removed]",
      "text/plain": [
       "<Figure size 432x288 with 1 Axes>"
      ]
     },
     "metadata": {
      "needs_background": "light"
     },
     "output_type": "display_data"
    }
   ],
   "source": [
    "# Select the age column\n",
    "age = gss['age']\n",
    "\n",
    "# Make a PMF of age\n",
    "pmf_age = Pmf(age)\n",
    "\n",
    "# Plot the PMF\n",
    "pmf_age.bar()\n",
    "\n",
    "# Label the axes\n",
    "plt.xlabel('Age')\n",
    "plt.ylabel('PMF')\n",
    "plt.show()"
   ]
  },
  {
   "cell_type": "markdown",
   "metadata": {},
   "source": [
    "## 2. Distributions"
   ]
  },
  {
   "cell_type": "markdown",
   "metadata": {},
   "source": [
    "### Make a CDF\n",
    "Instructions:\n",
    "<ul>\n",
    "<li>Select the 'age' column. Store the result in age.</li>\n",
    "<li>Compute the CDF of age. Store the result in cdf_age.</li>\n",
    "<li>Calculate the CDF of 30.</li>\n",
    "</ul>"
   ]
  },
  {
   "cell_type": "code",
   "execution_count": 4,
   "metadata": {},
   "outputs": [
    {
     "name": "stdout",
     "output_type": "stream",
     "text": [
      "27.0\n"
     ]
    }
   ],
   "source": [
    "# Select the age column\n",
    "age = gss['age']\n",
    "\n",
    "# Compute the CDF of age\n",
    "cdf_age = Cdf(age)\n",
    "\n",
    "# Calculate the CDF of 30\n",
    "print(cdf_age(30))"
   ]
  },
  {
   "cell_type": "markdown",
   "metadata": {},
   "source": [
    "### Compute IQR\n",
    "Instructions:\n",
    "<ul>\n",
    "<li>Calculate the 75th percentile of income and store it in percentile_75th.</li>\n",
    "<li>Calculate the 25th percentile of income and store it in percentile_25th.</li>\n",
    "<li>Calculate the interquartile range of income. Store the result in iqr.</li>\n",
    "</ul>"
   ]
  },
  {
   "cell_type": "code",
   "execution_count": null,
   "metadata": {},
   "outputs": [],
   "source": [
    "# Calculate the 75th percentile \n",
    "percentile_75th = cdf_income.inverse(0.75)\n",
    "\n",
    "# Calculate the 25th percentile\n",
    "percentile_25th = cdf_income.inverse(0.25)\n",
    "\n",
    "# Calculate the interquartile range\n",
    "iqr = percentile_75th - percentile_25th\n",
    "\n",
    "# Print the interquartile range\n",
    "print(iqr)"
   ]
  },
  {
   "cell_type": "markdown",
   "metadata": {},
   "source": [
    "### Plot a CDF\n",
    "Instructions:\n",
    "<ul>\n",
    "<li>Select 'realinc' from the gss dataset.</li>\n",
    "<li>Make a Cdf object called cdf_income.</li>\n",
    "<li>Create a plot of cdf_income using .plot().</li>\n",
    "</ul>"
   ]
  },
  {
   "cell_type": "code",
   "execution_count": null,
   "metadata": {},
   "outputs": [],
   "source": [
    "# Select realinc\n",
    "income = gss['realinc']\n",
    "\n",
    "# Make the CDF\n",
    "cdf_income = Cdf(income)\n",
    "\n",
    "# Plot it\n",
    "cdf_income.plot()\n",
    "\n",
    "# Label the axes\n",
    "plt.xlabel('Income (1986 USD)')\n",
    "plt.ylabel('CDF')\n",
    "plt.show()"
   ]
  },
  {
   "cell_type": "markdown",
   "metadata": {},
   "source": [
    "### Extract education levels\n",
    "Instructions:\n",
    "<ul>\n",
    "<li>Complete the line that identifies respondents with associate degrees, that is, people with 14 or more years of education but less than 16.</li>\n",
    "<li>Complete the line that identifies respondents with 12 or fewer years of education.</li>\n",
    "<li>Confirm that the mean of high is the fraction we computed in the previous exercise, about 53%.</li>\n",
    "</ul>"
   ]
  },
  {
   "cell_type": "code",
   "execution_count": 5,
   "metadata": {},
   "outputs": [
    {
     "name": "stdout",
     "output_type": "stream",
     "text": [
      "0.5308807991547402\n"
     ]
    }
   ],
   "source": [
    "# Select educ\n",
    "educ = gss['educ']\n",
    "\n",
    "# Bachelor's degree\n",
    "bach = (educ >= 16)\n",
    "\n",
    "# Associate degree\n",
    "assc = (educ >= 14) & (educ < 16)\n",
    "\n",
    "# High school (12 or fewer years of education)\n",
    "high = (educ <= 12)\n",
    "print(high.mean())"
   ]
  },
  {
   "cell_type": "markdown",
   "metadata": {},
   "source": [
    "### Plot income CDFs\n",
    "Instructions:\n",
    "<ul>\n",
    "<li>Fill in the missing lines of code to plot the CDFs.</li>\n",
    "</ul>"
   ]
  },
  {
   "cell_type": "code",
   "execution_count": null,
   "metadata": {},
   "outputs": [],
   "source": [
    "income = gss['realinc']\n",
    "\n",
    "# Plot the CDFs\n",
    "Cdf(income[high]).plot(label='High school')\n",
    "Cdf(income[assc]).plot(label='Associate')\n",
    "Cdf(income[bach]).plot(label='Bachelor')\n",
    "\n",
    "# Label the axes\n",
    "plt.xlabel('Income (1986 USD)')\n",
    "plt.ylabel('CDF')\n",
    "plt.legend()\n",
    "plt.show()"
   ]
  },
  {
   "cell_type": "markdown",
   "metadata": {},
   "source": [
    "### Distribution of income\n",
    "Instructions:\n",
    "<ul>\n",
    "<li>Extract 'realinc' from gss and compute its logarithm using np.log10().</li>\n",
    "<li>Compute the mean and standard deviation of the result.</li>\n",
    "<li>Make a norm object by passing the computed mean and standard deviation to norm().</li>\n",
    "</ul>"
   ]
  },
  {
   "cell_type": "code",
   "execution_count": 11,
   "metadata": {},
   "outputs": [
    {
     "name": "stdout",
     "output_type": "stream",
     "text": [
      "4.371148677933652 0.4290043733010077\n"
     ]
    }
   ],
   "source": [
    "# Extract realinc and compute its log\n",
    "income = gss['realinc']\n",
    "log_income = np.log10(income)\n",
    "\n",
    "# Compute mean and standard deviation\n",
    "mean = np.mean(log_income)\n",
    "std = np.std(log_income)\n",
    "print(mean, std)\n",
    "\n",
    "# Make a norm object\n",
    "from scipy.stats import norm\n",
    "dist = norm(mean, std)"
   ]
  },
  {
   "cell_type": "markdown",
   "metadata": {},
   "source": [
    "### Comparing CDFs\n",
    "Instructions:\n",
    "<ul>\n",
    "<li>Evaluate the normal cumulative distribution function using dist.cdf.</li>\n",
    "<li>Use the Cdf() function to compute the CDF of log_income.</li>\n",
    "<li>Plot the result.</li>\n",
    "</ul>"
   ]
  },
  {
   "cell_type": "code",
   "execution_count": null,
   "metadata": {},
   "outputs": [],
   "source": [
    "# Evaluate the model CDF\n",
    "xs = np.linspace(2, 5.5)\n",
    "ys = dist.cdf(xs)\n",
    "\n",
    "# Plot the model CDF\n",
    "plt.clf()\n",
    "plt.plot(xs, ys, color='gray')\n",
    "\n",
    "# Create and plot the Cdf of log_income\n",
    "Cdf(log_income).plot()\n",
    "    \n",
    "# Label the axes\n",
    "plt.xlabel('log10 of realinc')\n",
    "plt.ylabel('CDF')\n",
    "plt.show()"
   ]
  },
  {
   "cell_type": "markdown",
   "metadata": {},
   "source": [
    "### Comparing PDFs\n",
    "Instructions:\n",
    "<ul>\n",
    "<li>Evaluate the normal PDF using dist, which is a norm object with the same mean and standard deviation as the data.</li>\n",
    "<li>Make a KDE plot of the logarithms of the incomes, using log_income, which is a Series object.</li>\n",
    "</ul>"
   ]
  },
  {
   "cell_type": "code",
   "execution_count": 14,
   "metadata": {},
   "outputs": [
    {
     "data": {
      "image/png": "[encoded data removed]",
      "text/plain": [
       "<Figure size 432x288 with 1 Axes>"
      ]
     },
     "metadata": {
      "needs_background": "light"
     },
     "output_type": "display_data"
    }
   ],
   "source": [
    "# Evaluate the normal PDF\n",
    "xs = np.linspace(2, 5.5)\n",
    "ys = dist.pdf(xs)\n",
    "\n",
    "# Plot the model PDF\n",
    "plt.clf()\n",
    "plt.plot(xs, ys, color='gray')\n",
    "\n",
    "# Plot the data KDE\n",
    "sns.kdeplot(log_income)\n",
    "\n",
    "# Label the axes\n",
    "plt.xlabel('log10 of realinc')\n",
    "plt.ylabel('PDF')\n",
    "plt.show()"
   ]
  },
  {
   "cell_type": "markdown",
   "metadata": {},
   "source": [
    "## 3. Structuring written reports"
   ]
  },
  {
   "cell_type": "markdown",
   "metadata": {},
   "source": [
    "## 4. Multivariate Thinking"
   ]
  }
 ],
 "metadata": {
  "kernelspec": {
   "display_name": "Python 3.9.12 ('base')",
   "language": "python",
   "name": "python3"
  },
  "language_info": {
   "codemirror_mode": {
    "name": "ipython",
    "version": 3
   },
   "file_extension": ".py",
   "mimetype": "text/x-python",
   "name": "python",
   "nbconvert_exporter": "python",
   "pygments_lexer": "ipython3",
   "version": "3.9.12"
  },
  "orig_nbformat": 4,
  "vscode": {
   "interpreter": {
    "hash": "aea149784bd30735ce6bf75b9a5314843328adf2083b944f20623ef50c2ca00d"
   }
  }
 },
 "nbformat": 4,
 "nbformat_minor": 2
}

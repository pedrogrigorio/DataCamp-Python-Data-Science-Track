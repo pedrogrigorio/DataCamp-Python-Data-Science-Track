{
 "cells": [
  {
   "cell_type": "markdown",
   "metadata": {},
   "source": [
    "# Introduction to Regression with statsmodels in Python"
   ]
  },
  {
   "cell_type": "markdown",
   "metadata": {},
   "source": [
    "### Libraries and datasets"
   ]
  },
  {
   "cell_type": "code",
   "execution_count": 1,
   "metadata": {},
   "outputs": [],
   "source": [
    "import pandas as pd\n",
    "import seaborn as sns\n",
    "import matplotlib.pyplot as plt\n",
    "\n",
    "taiwan_real_estate = pd.read_csv('datasets/taiwan_real_estate2.csv')"
   ]
  },
  {
   "cell_type": "markdown",
   "metadata": {},
   "source": [
    "## 1. Simple Linear Regression Modeling"
   ]
  },
  {
   "cell_type": "markdown",
   "metadata": {},
   "source": [
    "### Visualizing two numeric variables\n",
    "Instructions:\n",
    "<ul>\n",
    "<li>Import the seaborn package, aliased as sns.</li>\n",
    "<li>Using taiwan_real_estate, draw a scatter plot of \"price_twd_msq\" (y-axis) versus \"n_convenience\" (x-axis).</li>\n",
    "<li>Draw a trend line calculated using linear regression. Omit the confidence interval ribbon. Note: The scatter_kws argument, pre-filled in the exercise, makes the data points 50% transparent.</li>\n",
    "</ul>"
   ]
  },
  {
   "cell_type": "code",
   "execution_count": 2,
   "metadata": {},
   "outputs": [
    {
     "data": {
      "image/png": "[encoded data removed]",
      "text/plain": [
       "<Figure size 432x288 with 1 Axes>"
      ]
     },
     "metadata": {
      "needs_background": "light"
     },
     "output_type": "display_data"
    }
   ],
   "source": [
    "# Import seaborn with alias sns\n",
    "import seaborn as sns\n",
    "\n",
    "# Import matplotlib.pyplot with alias plt\n",
    "import matplotlib.pyplot as plt\n",
    "\n",
    "# Draw the scatter plot\n",
    "sns.scatterplot(x=\"n_convenience\",\n",
    "                y=\"price_twd_msq\",\n",
    "                data=taiwan_real_estate)\n",
    "\n",
    "# Draw a trend line on the scatter plot of price_twd_msq vs. n_convenience\n",
    "sns.regplot(x='n_convenience',\n",
    "         y='price_twd_msq',\n",
    "         data=taiwan_real_estate,\n",
    "         ci=None,\n",
    "         scatter_kws={'alpha': 0.5})\n",
    "\n",
    "# Show the plot\n",
    "plt.show()"
   ]
  },
  {
   "cell_type": "markdown",
   "metadata": {},
   "source": [
    "### Linear regression with ols()\n",
    "Instructions:\n",
    "<ul>\n",
    "<li>Import the ols() function from the statsmodels.formula.api package.</li>\n",
    "<li>Run a linear regression with price_twd_msq as the response variable, n_convenience as the explanatory variable, and taiwan_real_estate as the dataset. Name it mdl_price_vs_conv.</li>\n",
    "<li>Fit the model.</li>\n",
    "<li>Print the parameters of the fitted model.</li>\n",
    "</ul>"
   ]
  },
  {
   "cell_type": "code",
   "execution_count": 3,
   "metadata": {},
   "outputs": [
    {
     "name": "stdout",
     "output_type": "stream",
     "text": [
      "Intercept        8.224237\n",
      "n_convenience    0.798080\n",
      "dtype: float64\n"
     ]
    }
   ],
   "source": [
    "# Import the ols function\n",
    "from statsmodels.formula.api import ols\n",
    "\n",
    "# Create the model object\n",
    "mdl_price_vs_conv = ols('price_twd_msq ~ n_convenience', data=taiwan_real_estate)\n",
    "\n",
    "# Fit the model\n",
    "mdl_price_vs_conv = mdl_price_vs_conv.fit()\n",
    "\n",
    "# Print the parameters of the fitted model\n",
    "print(mdl_price_vs_conv.params)"
   ]
  },
  {
   "cell_type": "markdown",
   "metadata": {},
   "source": [
    "### Visualizing numeric vs. categorical\n",
    "Instructions:\n",
    "<ul>\n",
    "<li>Using taiwan_real_estate, plot a histogram of price_twd_msq with 10 bins. Split the plot by house_age_years to give 3 panels.</li>\n",
    "</ul>"
   ]
  },
  {
   "cell_type": "code",
   "execution_count": 4,
   "metadata": {},
   "outputs": [
    {
     "data": {
      "image/png": "[encoded data removed]",
      "text/plain": [
       "<Figure size 1080x360 with 3 Axes>"
      ]
     },
     "metadata": {
      "needs_background": "light"
     },
     "output_type": "display_data"
    }
   ],
   "source": [
    "# Histograms of price_twd_msq with 10 bins, split by the age of each house\n",
    "sns.displot(data=taiwan_real_estate,\n",
    "         x='price_twd_msq',\n",
    "         col='house_age_years',\n",
    "         bins=10)\n",
    "\n",
    "# Show the plot\n",
    "plt.show()"
   ]
  },
  {
   "cell_type": "markdown",
   "metadata": {},
   "source": [
    "### Calculating means by category\n",
    "Instructions:\n",
    "<ul>\n",
    "<li>Group taiwan_real_estate by house_age_years and calculate the mean price (price_twd_msq) for each age group. Assign the result to mean_price_by_age.</li>\n",
    "<li>Print the result and inspect the output.</li>\n",
    "</ul>"
   ]
  },
  {
   "cell_type": "code",
   "execution_count": 5,
   "metadata": {},
   "outputs": [
    {
     "name": "stdout",
     "output_type": "stream",
     "text": [
      "house_age_years\n",
      "0 to 15     12.637471\n",
      "15 to 30     9.876743\n",
      "30 to 45    11.393264\n",
      "Name: price_twd_msq, dtype: float64\n"
     ]
    }
   ],
   "source": [
    "# Calculate the mean of price_twd_msq, grouped by house age\n",
    "mean_price_by_age = taiwan_real_estate.groupby('house_age_years')['price_twd_msq'].mean()\n",
    "\n",
    "# Print the result\n",
    "print(mean_price_by_age)"
   ]
  },
  {
   "cell_type": "markdown",
   "metadata": {},
   "source": [
    "### Linear regression with a categorical explanatory variable\n",
    "Instructions:\n",
    "<ul>\n",
    "<li>Run and fit a linear regression with price_twd_msq as the response variable, house_age_years as the explanatory variable, and taiwan_real_estate as the dataset. Assign to mdl_price_vs_age.</li>\n",
    "<li>Print its parameters.</li>\n",
    "<li>Update the model formula so that no intercept is included in the model. Assign to mdl_price_vs_age0.</li>\n",
    "<li>Print its parameters.</li>\n",
    "</ul>"
   ]
  },
  {
   "cell_type": "code",
   "execution_count": 6,
   "metadata": {},
   "outputs": [
    {
     "name": "stdout",
     "output_type": "stream",
     "text": [
      "Intercept                      12.637471\n",
      "house_age_years[T.15 to 30]    -2.760728\n",
      "house_age_years[T.30 to 45]    -1.244207\n",
      "dtype: float64\n",
      "house_age_years[0 to 15]     12.637471\n",
      "house_age_years[15 to 30]     9.876743\n",
      "house_age_years[30 to 45]    11.393264\n",
      "dtype: float64\n"
     ]
    }
   ],
   "source": [
    "# Create the model, fit it\n",
    "mdl_price_vs_age = ols('price_twd_msq ~ house_age_years', data=taiwan_real_estate).fit()\n",
    "\n",
    "# Print the parameters of the fitted model\n",
    "print(mdl_price_vs_age.params)\n",
    "\n",
    "# Update the model formula to remove the intercept\n",
    "mdl_price_vs_age0 = ols(\"price_twd_msq ~ house_age_years + 0\", data=taiwan_real_estate).fit()\n",
    "\n",
    "# Print the parameters of the fitted model\n",
    "print(mdl_price_vs_age0.params)"
   ]
  },
  {
   "cell_type": "markdown",
   "metadata": {},
   "source": [
    "## 2. Predictions and model objects"
   ]
  },
  {
   "cell_type": "markdown",
   "metadata": {},
   "source": [
    "### Predicting house prices\n",
    "Instructions:\n",
    "<ul>\n",
    "<li>Import the numpy package using the alias np.</li>\n",
    "<li>Create a DataFrame of explanatory data, where the number of convenience stores, n_convenience, takes the integer values from zero to ten.</li>\n",
    "<li>Print explanatory_data.</li>\n",
    "<li>Use the model mdl_price_vs_conv to make predictions from explanatory_data and store it as price_twd_msq.</li>\n",
    "<li>Print the predictions.</li>\n",
    "<li>Create a DataFrame of predictions named prediction_data. Start with explanatory_data, then add an extra column, price_twd_msq, containing the predictions you created in the previous step.</li>\n",
    "</ul>"
   ]
  },
  {
   "cell_type": "code",
   "execution_count": 7,
   "metadata": {},
   "outputs": [
    {
     "data": {
      "text/html": [
       "<div>\n",
       "<style scoped>\n",
       "    .dataframe tbody tr th:only-of-type {\n",
       "        vertical-align: middle;\n",
       "    }\n",
       "\n",
       "    .dataframe tbody tr th {\n",
       "        vertical-align: top;\n",
       "    }\n",
       "\n",
       "    .dataframe thead th {\n",
       "        text-align: right;\n",
       "    }\n",
       "</style>\n",
       "<table border=\"1\" class=\"dataframe\">\n",
       "  <thead>\n",
       "    <tr style=\"text-align: right;\">\n",
       "      <th></th>\n",
       "      <th>n_convenience</th>\n",
       "      <th>price_twd_msq</th>\n",
       "    </tr>\n",
       "  </thead>\n",
       "  <tbody>\n",
       "    <tr>\n",
       "      <th>0</th>\n",
       "      <td>0</td>\n",
       "      <td>8.224237</td>\n",
       "    </tr>\n",
       "    <tr>\n",
       "      <th>1</th>\n",
       "      <td>1</td>\n",
       "      <td>9.022317</td>\n",
       "    </tr>\n",
       "    <tr>\n",
       "      <th>2</th>\n",
       "      <td>2</td>\n",
       "      <td>9.820397</td>\n",
       "    </tr>\n",
       "    <tr>\n",
       "      <th>3</th>\n",
       "      <td>3</td>\n",
       "      <td>10.618477</td>\n",
       "    </tr>\n",
       "    <tr>\n",
       "      <th>4</th>\n",
       "      <td>4</td>\n",
       "      <td>11.416556</td>\n",
       "    </tr>\n",
       "    <tr>\n",
       "      <th>5</th>\n",
       "      <td>5</td>\n",
       "      <td>12.214636</td>\n",
       "    </tr>\n",
       "    <tr>\n",
       "      <th>6</th>\n",
       "      <td>6</td>\n",
       "      <td>13.012716</td>\n",
       "    </tr>\n",
       "    <tr>\n",
       "      <th>7</th>\n",
       "      <td>7</td>\n",
       "      <td>13.810795</td>\n",
       "    </tr>\n",
       "    <tr>\n",
       "      <th>8</th>\n",
       "      <td>8</td>\n",
       "      <td>14.608875</td>\n",
       "    </tr>\n",
       "    <tr>\n",
       "      <th>9</th>\n",
       "      <td>9</td>\n",
       "      <td>15.406955</td>\n",
       "    </tr>\n",
       "    <tr>\n",
       "      <th>10</th>\n",
       "      <td>10</td>\n",
       "      <td>16.205035</td>\n",
       "    </tr>\n",
       "  </tbody>\n",
       "</table>\n",
       "</div>"
      ],
      "text/plain": [
       "    n_convenience  price_twd_msq\n",
       "0               0       8.224237\n",
       "1               1       9.022317\n",
       "2               2       9.820397\n",
       "3               3      10.618477\n",
       "4               4      11.416556\n",
       "5               5      12.214636\n",
       "6               6      13.012716\n",
       "7               7      13.810795\n",
       "8               8      14.608875\n",
       "9               9      15.406955\n",
       "10             10      16.205035"
      ]
     },
     "metadata": {},
     "output_type": "display_data"
    }
   ],
   "source": [
    "# Import numpy with alias np\n",
    "import numpy as np\n",
    "\n",
    "# Create explanatory_data \n",
    "explanatory_data = pd.DataFrame({'n_convenience': np.arange(0, 11)})\n",
    "\n",
    "# Use mdl_price_vs_conv to predict with explanatory_data, call it price_twd_msq\n",
    "price_twd_msq = mdl_price_vs_conv.predict(explanatory_data)\n",
    "\n",
    "# Create prediction_data\n",
    "prediction_data = explanatory_data.assign(price_twd_msq=price_twd_msq)\n",
    "\n",
    "# Print the result\n",
    "display(prediction_data)"
   ]
  },
  {
   "cell_type": "markdown",
   "metadata": {},
   "source": [
    "### Visualizing predictions\n",
    "Instructions:\n",
    "<ul>\n",
    "<li>Create a new figure to plot multiple layers.</li>\n",
    "<li>Extend the plotting code to add points for the predictions in prediction_data. Color the points red.</li>\n",
    "<li>Display the layered plot.</li>\n",
    "</ul>"
   ]
  },
  {
   "cell_type": "code",
   "execution_count": 8,
   "metadata": {},
   "outputs": [
    {
     "data": {
      "image/png": "[encoded data removed]",
      "text/plain": [
       "<Figure size 432x288 with 1 Axes>"
      ]
     },
     "metadata": {
      "needs_background": "light"
     },
     "output_type": "display_data"
    }
   ],
   "source": [
    "# Create a new figure, fig\n",
    "fig = plt.figure()\n",
    "\n",
    "sns.regplot(x=\"n_convenience\",\n",
    "            y=\"price_twd_msq\",\n",
    "            data=taiwan_real_estate,\n",
    "            ci=None)\n",
    "            \n",
    "# Add a scatter plot layer to the regplot\n",
    "sns.scatterplot(x='n_convenience', y='price_twd_msq', data=prediction_data, color='red')\n",
    "\n",
    "# Show the layered plot\n",
    "plt.show()"
   ]
  },
  {
   "cell_type": "markdown",
   "metadata": {},
   "source": [
    "### The limits of prediction\n",
    "Instructions:\n",
    "<ul>\n",
    "<li>Create some impossible explanatory data. Define a DataFrame impossible with one column, n_convenience, set to -1 in the first row, and 2.5 in the second row.</li>\n",
    "<li>Try making predictions on your two impossible cases. What happens?</li>\n",
    "</ul>"
   ]
  },
  {
   "cell_type": "code",
   "execution_count": 9,
   "metadata": {},
   "outputs": [
    {
     "data": {
      "text/plain": [
       "0     7.426158\n",
       "1    10.219437\n",
       "dtype: float64"
      ]
     },
     "execution_count": 9,
     "metadata": {},
     "output_type": "execute_result"
    }
   ],
   "source": [
    "# Define a DataFrame impossible\n",
    "impossible = pd.DataFrame({'n_convenience':[-1, 2.5]})\n",
    "\n",
    "# Predict\n",
    "mdl_price_vs_conv.predict(impossible)\n",
    "\n",
    "# The model successfully gives a prediction about cases that are impossible in real life.\n",
    "# i.e. Linear models don't know what is possible or not in real life."
   ]
  },
  {
   "cell_type": "markdown",
   "metadata": {},
   "source": [
    "### Extracting model elements\n",
    "Instructions:\n",
    "<ul>\n",
    "<li>Print the parameters of mdl_price_vs_conv.</li>\n",
    "<li>Print the fitted values of mdl_price_vs_conv.</li>\n",
    "<li>Print the residuals of mdl_price_vs_conv.</li>\n",
    "<li>Print a summary of mdl_price_vs_conv.</li>\n",
    "</ul>"
   ]
  },
  {
   "cell_type": "code",
   "execution_count": 19,
   "metadata": {},
   "outputs": [
    {
     "name": "stdout",
     "output_type": "stream",
     "text": [
      "Intercept        8.224237\n",
      "n_convenience    0.798080\n",
      "dtype: float64 \n",
      "\n"
     ]
    },
    {
     "data": {
      "text/plain": [
       "0      16.205035\n",
       "1      15.406955\n",
       "2      12.214636\n",
       "3      12.214636\n",
       "4      12.214636\n",
       "         ...    \n",
       "409     8.224237\n",
       "410    15.406955\n",
       "411    13.810795\n",
       "412    12.214636\n",
       "413    15.406955\n",
       "Length: 414, dtype: float64"
      ]
     },
     "metadata": {},
     "output_type": "display_data"
    },
    {
     "data": {
      "text/plain": [
       "0     -4.737561\n",
       "1     -2.638422\n",
       "2      2.097013\n",
       "3      4.366302\n",
       "4      0.826211\n",
       "         ...   \n",
       "409   -3.564631\n",
       "410   -0.278362\n",
       "411   -1.526378\n",
       "412    3.670387\n",
       "413    3.927387\n",
       "Length: 414, dtype: float64"
      ]
     },
     "metadata": {},
     "output_type": "display_data"
    },
    {
     "name": "stdout",
     "output_type": "stream",
     "text": [
      "                            OLS Regression Results                            \n",
      "==============================================================================\n",
      "Dep. Variable:          price_twd_msq   R-squared:                       0.326\n",
      "Model:                            OLS   Adj. R-squared:                  0.324\n",
      "Method:                 Least Squares   F-statistic:                     199.3\n",
      "Date:                Fri, 21 Oct 2022   Prob (F-statistic):           3.41e-37\n",
      "Time:                        09:34:14   Log-Likelihood:                -1091.1\n",
      "No. Observations:                 414   AIC:                             2186.\n",
      "Df Residuals:                     412   BIC:                             2194.\n",
      "Df Model:                           1                                         \n",
      "Covariance Type:            nonrobust                                         \n",
      "=================================================================================\n",
      "                    coef    std err          t      P>|t|      [0.025      0.975]\n",
      "---------------------------------------------------------------------------------\n",
      "Intercept         8.2242      0.285     28.857      0.000       7.664       8.784\n",
      "n_convenience     0.7981      0.057     14.118      0.000       0.687       0.909\n",
      "==============================================================================\n",
      "Omnibus:                      171.927   Durbin-Watson:                   1.993\n",
      "Prob(Omnibus):                  0.000   Jarque-Bera (JB):             1417.242\n",
      "Skew:                           1.553   Prob(JB):                    1.78e-308\n",
      "Kurtosis:                      11.516   Cond. No.                         8.87\n",
      "==============================================================================\n",
      "\n",
      "Notes:\n",
      "[1] Standard Errors assume that the covariance matrix of the errors is correctly specified.\n"
     ]
    }
   ],
   "source": [
    "# Print the model parameters of mdl_price_vs_conv\n",
    "print(mdl_price_vs_conv.params, \"\\n\")\n",
    "\n",
    "# Print the fitted values of mdl_price_vs_conv\n",
    "display(mdl_price_vs_conv.fittedvalues)\n",
    "\n",
    "# Print the residuals of mdl_price_vs_conv\n",
    "display(mdl_price_vs_conv.resid)\n",
    "\n",
    "# Print a summary of mdl_price_vs_conv\n",
    "print(mdl_price_vs_conv.summary())"
   ]
  },
  {
   "cell_type": "markdown",
   "metadata": {},
   "source": [
    "### Manually predicting house prices\n",
    "Instructions:\n",
    "<ul>\n",
    "<li>Get the coefficients/parameters of mdl_price_vs_conv, assigning to coeffs.</li>\n",
    "<li>Get the intercept, which is the first element of coeffs, assigning to intercept.</li>\n",
    "<li>Get the slope, which is the second element of coeffs, assigning to slope.</li>\n",
    "<li>Manually predict price_twd_msq using the formula, specifying the intercept, slope, and explanatory_data.</li>\n",
    "<li>Run the code to compare your manually calculated predictions to the results from .predict().</li>\n",
    "</ul>"
   ]
  },
  {
   "cell_type": "code",
   "execution_count": 21,
   "metadata": {},
   "outputs": [
    {
     "name": "stdout",
     "output_type": "stream",
     "text": [
      "    n_convenience\n",
      "0        8.224237\n",
      "1        9.022317\n",
      "2        9.820397\n",
      "3       10.618477\n",
      "4       11.416556\n",
      "5       12.214636\n",
      "6       13.012716\n",
      "7       13.810795\n",
      "8       14.608875\n",
      "9       15.406955\n",
      "10      16.205035\n",
      "    n_convenience  predictions_auto\n",
      "0        8.224237          8.224237\n",
      "1        9.022317          9.022317\n",
      "2        9.820397          9.820397\n",
      "3       10.618477         10.618477\n",
      "4       11.416556         11.416556\n",
      "5       12.214636         12.214636\n",
      "6       13.012716         13.012716\n",
      "7       13.810795         13.810795\n",
      "8       14.608875         14.608875\n",
      "9       15.406955         15.406955\n",
      "10      16.205035         16.205035\n"
     ]
    }
   ],
   "source": [
    "# Get the coefficients of mdl_price_vs_conv\n",
    "coeffs = mdl_price_vs_conv.params\n",
    "\n",
    "# Get the intercept\n",
    "intercept = coeffs[0]\n",
    "\n",
    "# Get the slope\n",
    "slope = coeffs[1]\n",
    "\n",
    "# Manually calculate the predictions\n",
    "price_twd_msq = intercept + slope * explanatory_data\n",
    "print(price_twd_msq)\n",
    "\n",
    "# Compare to the results from .predict()\n",
    "print(price_twd_msq.assign(predictions_auto=mdl_price_vs_conv.predict(explanatory_data)))"
   ]
  },
  {
   "cell_type": "markdown",
   "metadata": {},
   "source": [
    "## 3. Assessing model fit"
   ]
  },
  {
   "cell_type": "markdown",
   "metadata": {},
   "source": [
    "## 4. Simple Logistic Regression Modeling"
   ]
  }
 ],
 "metadata": {
  "kernelspec": {
   "display_name": "Python 3.9.12 ('base')",
   "language": "python",
   "name": "python3"
  },
  "language_info": {
   "codemirror_mode": {
    "name": "ipython",
    "version": 3
   },
   "file_extension": ".py",
   "mimetype": "text/x-python",
   "name": "python",
   "nbconvert_exporter": "python",
   "pygments_lexer": "ipython3",
   "version": "3.9.12"
  },
  "orig_nbformat": 4,
  "vscode": {
   "interpreter": {
    "hash": "aea149784bd30735ce6bf75b9a5314843328adf2083b944f20623ef50c2ca00d"
   }
  }
 },
 "nbformat": 4,
 "nbformat_minor": 2
}

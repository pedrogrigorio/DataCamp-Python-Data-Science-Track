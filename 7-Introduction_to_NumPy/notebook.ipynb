{
 "cells": [
  {
   "cell_type": "markdown",
   "metadata": {},
   "source": [
    "# Introduction to NumPy"
   ]
  },
  {
   "cell_type": "markdown",
   "metadata": {},
   "source": [
    "### Datasets"
   ]
  },
  {
   "cell_type": "code",
   "execution_count": 15,
   "metadata": {},
   "outputs": [],
   "source": [
    "import numpy as np\n",
    "import matplotlib.pyplot as plt\n",
    "\n",
    "sudoku_list = np.load('datasets/sudoku_game.npy').tolist()\n",
    "doubling_array = [1, 2, 4, 8, 16, 32, 64, 128, 256, 512]"
   ]
  },
  {
   "cell_type": "markdown",
   "metadata": {},
   "source": [
    "## 1. Understanding NumPy Arrays"
   ]
  },
  {
   "cell_type": "markdown",
   "metadata": {},
   "source": [
    "### Your first NumPy array\n",
    "Instructions:\n",
    "<ul>\n",
    "<li>Convert sudoku_list into a NumPy array called sudoku_array.</li>\n",
    "<li>Print the class type() of sudoku_array to check that your code has worked properly.</li>\n",
    "</ul>"
   ]
  },
  {
   "cell_type": "code",
   "execution_count": 10,
   "metadata": {},
   "outputs": [
    {
     "data": {
      "text/plain": [
       "numpy.ndarray"
      ]
     },
     "execution_count": 10,
     "metadata": {},
     "output_type": "execute_result"
    }
   ],
   "source": [
    "sudoku_array = np.array(sudoku_list)\n",
    "type(sudoku_array)"
   ]
  },
  {
   "cell_type": "markdown",
   "metadata": {},
   "source": [
    "### Creating arrays from scratch\n",
    "Instructions:\n",
    "<ul>\n",
    "<li>Create and print an array filled with zeros called zero_array, which has two rows and four columns.</li>\n",
    "<li>Create and print an array of random floats between 0 and 1 called random_array, which has three rows and six columns.</li>\n",
    "</ul>"
   ]
  },
  {
   "cell_type": "code",
   "execution_count": 12,
   "metadata": {},
   "outputs": [
    {
     "name": "stdout",
     "output_type": "stream",
     "text": [
      "[[0. 0. 0. 0.]\n",
      " [0. 0. 0. 0.]]\n",
      "[[0.56523646 0.53957479 0.21533744 0.19372076 0.86320995 0.71007639]\n",
      " [0.73002552 0.22093676 0.3113331  0.31647774 0.72017564 0.73896174]\n",
      " [0.53295485 0.43773099 0.85267628 0.78634655 0.82974671 0.32044401]]\n"
     ]
    }
   ],
   "source": [
    "# Create an array of zeros which has four columns and two rows\n",
    "zero_array = np.zeros((2,4))\n",
    "print(zero_array)\n",
    "\n",
    "# Create an array of random floats which has six columns and three rows\n",
    "random_array = np.random.random((3,6))\n",
    "print(random_array)"
   ]
  },
  {
   "cell_type": "markdown",
   "metadata": {},
   "source": [
    "### A range array\n",
    "Instructions:\n",
    "<ul>\n",
    "<li>Using np.arange(), create a 1D array called one_to_ten which holds all integers from one to ten (inclusive).</li>\n",
    "<li>Create a scatterplot with doubling_array as the y values and one_to_ten as the x values.</li>\n",
    "</ul>"
   ]
  },
  {
   "cell_type": "code",
   "execution_count": 16,
   "metadata": {},
   "outputs": [
    {
     "data": {
      "image/png": "[encoded data removed]",
      "text/plain": [
       "<Figure size 432x288 with 1 Axes>"
      ]
     },
     "metadata": {
      "needs_background": "light"
     },
     "output_type": "display_data"
    }
   ],
   "source": [
    "# Create an array of integers from one to ten\n",
    "one_to_ten = np.arange(1,11)\n",
    "\n",
    "# Create your scatterplot\n",
    "plt.scatter(one_to_ten, doubling_array)\n",
    "plt.show()"
   ]
  },
  {
   "cell_type": "markdown",
   "metadata": {},
   "source": [
    "## 2. Selecting and Updating Data"
   ]
  },
  {
   "cell_type": "markdown",
   "metadata": {},
   "source": [
    "## 3. Array Mathematics!"
   ]
  },
  {
   "cell_type": "markdown",
   "metadata": {},
   "source": [
    "## 4. Array Transformations"
   ]
  }
 ],
 "metadata": {
  "kernelspec": {
   "display_name": "Python 3.9.12 ('base')",
   "language": "python",
   "name": "python3"
  },
  "language_info": {
   "codemirror_mode": {
    "name": "ipython",
    "version": 3
   },
   "file_extension": ".py",
   "mimetype": "text/x-python",
   "name": "python",
   "nbconvert_exporter": "python",
   "pygments_lexer": "ipython3",
   "version": "3.9.12"
  },
  "orig_nbformat": 4,
  "vscode": {
   "interpreter": {
    "hash": "aea149784bd30735ce6bf75b9a5314843328adf2083b944f20623ef50c2ca00d"
   }
  }
 },
 "nbformat": 4,
 "nbformat_minor": 2
}
